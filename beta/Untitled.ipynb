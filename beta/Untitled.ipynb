{
 "cells": [
  {
   "cell_type": "markdown",
   "id": "acb3c301-b184-4ebe-a5d2-3f38512b022e",
   "metadata": {},
   "source": [
    "# jsMPRA"
   ]
  },
  {
   "cell_type": "markdown",
   "id": "a678addc-4f7d-4eb7-8534-d092774cc931",
   "metadata": {},
   "source": [
    "## Opening fastq"
   ]
  },
  {
   "cell_type": "code",
   "execution_count": 27,
   "id": "a07f8f4d-3432-4124-9139-b934e3873ced",
   "metadata": {},
   "outputs": [],
   "source": [
    "!echo -e \"@adsf\\nATGC\\n+\\n,,,,\\n@lkj\\nTGGGGG\\n+\\n,,,,,,\" > test.fastq"
   ]
  },
  {
   "cell_type": "code",
   "execution_count": 17,
   "id": "1949e7b6-6c08-4c4a-8482-360fb4ca3d40",
   "metadata": {},
   "outputs": [
    {
     "name": "stdout",
     "output_type": "stream",
     "text": [
      "@adsf\n",
      "ATGC\n",
      "+\n",
      ",,,,\n",
      "@lkj\n",
      "TGGGGG\n",
      "+\n",
      ",,,,,,\n"
     ]
    }
   ],
   "source": [
    "!cat test.fastq"
   ]
  },
  {
   "cell_type": "code",
   "execution_count": 21,
   "id": "19af0c96-fa3d-4d5f-84d9-7e7d632be7b0",
   "metadata": {},
   "outputs": [],
   "source": [
    "!rm test.fastq.gz\n",
    "!gzip -k test.fastq\n"
   ]
  },
  {
   "cell_type": "code",
   "execution_count": 26,
   "id": "84279001-caba-4bed-9290-eb750159566c",
   "metadata": {},
   "outputs": [
    {
     "name": "stdout",
     "output_type": "stream",
     "text": [
      "ATGC [11, 11, 11, 11]\n",
      "TGGGGG [11, 11, 11, 11, 11, 11]\n"
     ]
    }
   ],
   "source": [
    "from Bio import SeqIO\n",
    "import gzip\n",
    "\n",
    "def read_fastq(fn,is_gzip=False,get_quality=False,print_progress=False):\n",
    "    \n",
    "    if gzip: open_func=gzip.open(fn,'rt')\n",
    "    else:    open_func=open(fn,'r')\n",
    "        \n",
    "    with open_func as handle:\n",
    "        \n",
    "        for record in SeqIO.parse(handle, \"fastq\"):\n",
    "                \n",
    "            qualityList=record.letter_annotations[\"phred_quality\"]\n",
    "            seq=str(record.seq)\n",
    "\n",
    "            if get_quality:\n",
    "                yield seq,qualityList\n",
    "            else:\n",
    "                yield seq\n",
    "                \n",
    "\n",
    "            \n",
    "for seq,q in read_fastq('test.fastq.gz',is_gzip=True,get_quality=True):\n",
    "    print(seq,q)"
   ]
  },
  {
   "cell_type": "code",
   "execution_count": null,
   "id": "4dc47f8d-88fe-4576-aea5-3f81385f3c63",
   "metadata": {},
   "outputs": [],
   "source": []
  }
 ],
 "metadata": {
  "kernelspec": {
   "display_name": "Python 3 (ipykernel)",
   "language": "python",
   "name": "python3"
  },
  "language_info": {
   "codemirror_mode": {
    "name": "ipython",
    "version": 3
   },
   "file_extension": ".py",
   "mimetype": "text/x-python",
   "name": "python",
   "nbconvert_exporter": "python",
   "pygments_lexer": "ipython3",
   "version": "3.9.7"
  }
 },
 "nbformat": 4,
 "nbformat_minor": 5
}
