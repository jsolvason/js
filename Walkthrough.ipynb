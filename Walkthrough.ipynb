{
 "cells": [
  {
   "cell_type": "markdown",
   "id": "26858715",
   "metadata": {},
   "source": [
    "# Installation"
   ]
  },
  {
   "cell_type": "markdown",
   "id": "a2c35998",
   "metadata": {},
   "source": [
    "To install these scripts I suggest doing the following:\n",
    "\n",
    "1. Create folder in home directory called pybin. Open terminal then type \n",
    "\n",
    "    ```mkdir pybin```\n",
    "\n",
    "2. Clone this github repo into pybin. \n",
    "    \n",
    "    ```cd pybin``` \n",
    "    \n",
    "    ```git clone _________```\n",
    "    \n",
    "3. Go back to your home directory \n",
    "\n",
    "    ```cd ~```\n",
    "\n",
    "4. Find your bash profile (The profile will be called ```.bash_profile```,```.bashrc```, or ```.zshrc```).\n",
    "\n",
    "    ```ls -a ~``` \n",
    "\n",
    "5. Open your bash profile with the terminal word processor (this assumes its named ```.zshrc```) \n",
    "\n",
    "    ```nano ~./zshrc```\n",
    "\n",
    "6. Add the following line to your bash profile \n",
    "\n",
    "    ```export PYTHONPATH=~/pybin/js:~/pybin/:$PYTHONPATH```\n",
    "\n",
    "\n",
    "7. Test this works by creating a new terminal window and typing the follwoing. If this does not return an error message, then it works!\n",
    "\n",
    "    ```python```\n",
    "\n",
    "    ```import js``` \n"
   ]
  },
  {
   "cell_type": "markdown",
   "id": "b1dd73f1",
   "metadata": {},
   "source": [
    "# Load all packages"
   ]
  },
  {
   "cell_type": "code",
   "execution_count": null,
   "id": "748d1330",
   "metadata": {},
   "outputs": [],
   "source": [
    "import js\n",
    "import jsAff as jsa\n",
    "import jsDna as jsd\n",
    "import jsGenome as jsg\n",
    "\n",
    "help(js)"
   ]
  },
  {
   "cell_type": "code",
   "execution_count": null,
   "id": "e7705323",
   "metadata": {},
   "outputs": [],
   "source": [
    "# List all modules in the package\n",
    "js.listModules()"
   ]
  },
  {
   "cell_type": "markdown",
   "id": "a102e70c",
   "metadata": {},
   "source": [
    "# Affinity scripts"
   ]
  },
  {
   "cell_type": "markdown",
   "id": "d0099299",
   "metadata": {},
   "source": [
    "This module allows you to load affinity reference files in the form of a dictionary with ```key=dna_sequence``` and ```value=affinity``` where max affinity is 1.0"
   ]
  },
  {
   "cell_type": "code",
   "execution_count": null,
   "id": "d963b237",
   "metadata": {},
   "outputs": [],
   "source": [
    "help(jsa)"
   ]
  },
  {
   "cell_type": "markdown",
   "id": "37fad03a",
   "metadata": {},
   "source": [
    "## Downloading reference files"
   ]
  },
  {
   "cell_type": "markdown",
   "id": "dfa0624f",
   "metadata": {},
   "source": [
    "Files can be found at this google drive: "
   ]
  },
  {
   "cell_type": "markdown",
   "id": "c5e7133d",
   "metadata": {},
   "source": [
    "## Loading dictionary"
   ]
  },
  {
   "cell_type": "code",
   "execution_count": null,
   "id": "757e3033",
   "metadata": {},
   "outputs": [],
   "source": [
    "# Load Ets1 affinity data\n",
    "seq2aff=jsa.loadEts(ref='/Users/joe/code/ref/binding_affinity/ets/parsed_Ets1_8mers.txt')\n",
    "js.dprint(seq2aff,0)"
   ]
  },
  {
   "cell_type": "code",
   "execution_count": null,
   "id": "e04a270e",
   "metadata": {},
   "outputs": [],
   "source": [
    "# Max and min affinities\n",
    "round(min(seq2aff.values()),3),max(seq2aff.values())"
   ]
  },
  {
   "cell_type": "code",
   "execution_count": null,
   "id": "95437791",
   "metadata": {},
   "outputs": [],
   "source": [
    "# Max sequence. \n",
    "seq2aff['CCGGAAGT']"
   ]
  },
  {
   "cell_type": "code",
   "execution_count": null,
   "id": "0b3343fc",
   "metadata": {},
   "outputs": [],
   "source": [
    "# Note that you can search for fwd or rev and get same answer.\n",
    "seq2aff[jsd.revcomp('CCGGAAGT')]"
   ]
  },
  {
   "cell_type": "markdown",
   "id": "d3a7f6a8",
   "metadata": {},
   "source": [
    "# Dna scripts"
   ]
  },
  {
   "cell_type": "markdown",
   "id": "38ced49f",
   "metadata": {},
   "source": [
    "This module allows you to do various operations on DNA sequence"
   ]
  },
  {
   "cell_type": "code",
   "execution_count": null,
   "id": "ddd030f2",
   "metadata": {},
   "outputs": [],
   "source": [
    "import jsDna as jsd\n",
    "help(jsd)"
   ]
  },
  {
   "cell_type": "markdown",
   "id": "129d0056",
   "metadata": {},
   "source": [
    "## Hamming Distance"
   ]
  },
  {
   "cell_type": "code",
   "execution_count": null,
   "id": "c37cc9ee",
   "metadata": {},
   "outputs": [],
   "source": [
    "str1='AATTGGCC'\n",
    "str2='TTTTGGCC'\n",
    "jsd.hamming(str1, str2)    "
   ]
  },
  {
   "cell_type": "markdown",
   "id": "e0e22262",
   "metadata": {},
   "source": [
    "## Reverse Complement"
   ]
  },
  {
   "cell_type": "code",
   "execution_count": null,
   "id": "df0c8501",
   "metadata": {},
   "outputs": [],
   "source": [
    "dna='ATGC'\n",
    "jsd.revcomp(dna)    "
   ]
  },
  {
   "cell_type": "markdown",
   "id": "3317e6d1",
   "metadata": {},
   "source": [
    "## GC Content"
   ]
  },
  {
   "cell_type": "code",
   "execution_count": null,
   "id": "b98966e7",
   "metadata": {},
   "outputs": [],
   "source": [
    "seq='ATGGCCAT'\n",
    "jsd.gc_content(seq)    "
   ]
  },
  {
   "cell_type": "markdown",
   "id": "30e1d2c9",
   "metadata": {},
   "source": [
    "## Iterating over kmers"
   ]
  },
  {
   "cell_type": "code",
   "execution_count": null,
   "id": "9797fd3a",
   "metadata": {},
   "outputs": [],
   "source": [
    "string='AATTGGCC'\n",
    "k=3\n",
    "jsd.get_kmers(string, k)    "
   ]
  },
  {
   "cell_type": "code",
   "execution_count": null,
   "id": "b8fc662f",
   "metadata": {},
   "outputs": [],
   "source": [
    "for kmer in jsd.get_kmers(string, k):\n",
    "    print(kmer) "
   ]
  },
  {
   "cell_type": "code",
   "execution_count": null,
   "id": "0c2d6847",
   "metadata": {},
   "outputs": [],
   "source": [
    "list(jsd.get_kmers(string, k))"
   ]
  },
  {
   "cell_type": "markdown",
   "id": "4584d896",
   "metadata": {},
   "source": [
    "## Generating random DNA"
   ]
  },
  {
   "cell_type": "code",
   "execution_count": null,
   "id": "31204c60",
   "metadata": {},
   "outputs": [],
   "source": [
    "length=5\n",
    "jsd.GenerateRandomDNA(length)    "
   ]
  },
  {
   "cell_type": "code",
   "execution_count": null,
   "id": "8173abbe",
   "metadata": {},
   "outputs": [],
   "source": [
    "template='AANAA'\n",
    "jsd.GenerateSingleRandomSequence(template)    "
   ]
  },
  {
   "cell_type": "code",
   "execution_count": null,
   "id": "0c9bc829",
   "metadata": {},
   "outputs": [],
   "source": [
    "template='AANAA'\n",
    "jsd.GenerateAllPossibleSequences(template)"
   ]
  },
  {
   "cell_type": "code",
   "execution_count": null,
   "id": "c9eb5434",
   "metadata": {},
   "outputs": [],
   "source": [
    "jsd.Iupac2AllNt"
   ]
  },
  {
   "cell_type": "code",
   "execution_count": null,
   "id": "28251cf8",
   "metadata": {},
   "outputs": [],
   "source": [
    "dna='AYN'\n",
    "jsd.IupacToAllPossibleSequences(dna)    "
   ]
  },
  {
   "cell_type": "code",
   "execution_count": null,
   "id": "9d4fa41e",
   "metadata": {},
   "outputs": [],
   "source": [
    "dna='AYN'\n",
    "pattern=jsd.IupacToRegexPattern(dna)    \n",
    "pattern"
   ]
  },
  {
   "cell_type": "code",
   "execution_count": null,
   "id": "0479fc78",
   "metadata": {},
   "outputs": [],
   "source": [
    "jsd.revcomp_regex(pattern)"
   ]
  },
  {
   "cell_type": "markdown",
   "id": "967f39f7",
   "metadata": {},
   "source": [
    "# Genome scripts"
   ]
  },
  {
   "cell_type": "markdown",
   "id": "1b62f577",
   "metadata": {},
   "source": [
    "This module is used to load a genome as a dictionary with ```key=chromosome_name``` and ```value=chromosome_sequence```."
   ]
  },
  {
   "cell_type": "markdown",
   "id": "59631bd1",
   "metadata": {},
   "source": [
    "## Download genome"
   ]
  },
  {
   "cell_type": "code",
   "execution_count": 2,
   "id": "f0445918",
   "metadata": {},
   "outputs": [
    {
     "name": "stdout",
     "output_type": "stream",
     "text": [
      "Help on module jsGenome:\n",
      "\n",
      "NAME\n",
      "    jsGenome\n",
      "\n",
      "FUNCTIONS\n",
      "    loadCi08(file_genome='/Users/joe/code/ref/genomes/ciona/2008/JoinedScaffold.fasta')\n",
      "        Load 2008 ciona genome\n",
      "    \n",
      "    loadCi19(file_genome='/Users/joe/code/ref/genomes/ciona/2019/HT.Ref.fasta')\n",
      "        Load 2019 ciona genome\n",
      "    \n",
      "    loadCi19_beta(file_genome='/Users/joe/code/ref/genomes/ciona/2019/HT.Ref.forBetaTesting.fasta')\n",
      "        Load 2019 ciona genome (for beta testing, first 1kb of each chrom)\n",
      "    \n",
      "    loadDr11(file_genome='/Users/joe/code/ref/genomes/zebrafish/danRer11/danRer11.fa')\n",
      "        Load Zebrafish danRer11 genome\n",
      "    \n",
      "    loadGenome(file_genome)\n",
      "        Loads arbitrary genome\n",
      "    \n",
      "    loadHg19(file_genome='/Users/joe/code/ref/genomes/human/hg19/hg19.fa')\n",
      "        Load hg19  genome\n",
      "    \n",
      "    loadHg38(file_genome='/Users/joe/code/ref/genomes/human/hg38/hg38.fa')\n",
      "        Load hg38  genome\n",
      "    \n",
      "    loadMm10(file_genome='/Users/joe/code/ref/genomes/mouse/mm10/mm10.fa')\n",
      "        Load mm10 mouse genome\n",
      "\n",
      "FILE\n",
      "    /Users/joe/pybin/js/jsGenome.py\n",
      "\n",
      "\n"
     ]
    }
   ],
   "source": [
    "import jsGenome as jsg\n",
    "help(jsg)"
   ]
  },
  {
   "cell_type": "markdown",
   "id": "df39253d",
   "metadata": {},
   "source": [
    "## Load genome"
   ]
  },
  {
   "cell_type": "code",
   "execution_count": 3,
   "id": "0c05d185",
   "metadata": {},
   "outputs": [],
   "source": [
    "chr2seq=jsg.loadHg38()"
   ]
  },
  {
   "cell_type": "code",
   "execution_count": 6,
   "id": "98534f73",
   "metadata": {},
   "outputs": [
    {
     "data": {
      "text/plain": [
       "'chr1'"
      ]
     },
     "execution_count": 6,
     "metadata": {},
     "output_type": "execute_result"
    }
   ],
   "source": [
    "# Inspect keys of dictionary\n",
    "list(chr2seq.keys())[0]"
   ]
  },
  {
   "cell_type": "code",
   "execution_count": 7,
   "id": "4a440c9c",
   "metadata": {},
   "outputs": [
    {
     "data": {
      "text/plain": [
       "'AGGTATCCTCTCATCTCAGCTTCCCTAGTAGTTGGAACTCTAGGTGCACAACACCACACCAGTTATTATTATTATTTTTTAATTTTTTATAGAGACAGGT'"
      ]
     },
     "execution_count": 7,
     "metadata": {},
     "output_type": "execute_result"
    }
   ],
   "source": [
    "# print random location in genome\n",
    "chr2seq['chr1'][500000:500100]"
   ]
  }
 ],
 "metadata": {
  "kernelspec": {
   "display_name": "Python 3",
   "language": "python",
   "name": "python3"
  },
  "language_info": {
   "codemirror_mode": {
    "name": "ipython",
    "version": 3
   },
   "file_extension": ".py",
   "mimetype": "text/x-python",
   "name": "python",
   "nbconvert_exporter": "python",
   "pygments_lexer": "ipython3",
   "version": "3.8.5"
  }
 },
 "nbformat": 4,
 "nbformat_minor": 5
}
