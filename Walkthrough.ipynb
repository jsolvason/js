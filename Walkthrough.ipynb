{
 "cells": [
  {
   "cell_type": "markdown",
   "id": "ae207880",
   "metadata": {},
   "source": [
    "# Installation"
   ]
  },
  {
   "cell_type": "markdown",
   "id": "e40ea98c",
   "metadata": {},
   "source": [
    "To install these scripts I suggest doing the following:\n",
    "\n",
    "1. Create folder in home directory called pybin. Open terminal then type \n",
    "\n",
    "    ```mkdir pybin```\n",
    "\n",
    "2. Clone this github repo into pybin. \n",
    "    \n",
    "    ```cd pybin``` \n",
    "    \n",
    "    ```git clone https://github.com/jsolvason/js```\n",
    "    \n",
    "3. Go back to your home directory \n",
    "\n",
    "    ```cd ~```\n",
    "\n",
    "4. Find your bash profile (The profile will be called ```.bash_profile```,```.bashrc```, or ```.zshrc```).\n",
    "\n",
    "    ```ls -a ~``` \n",
    "\n",
    "5. Open your bash profile with the terminal word processor (this assumes its named ```.zshrc```) \n",
    "\n",
    "    ```nano ~./zshrc```\n",
    "\n",
    "6. Add the following line to your bash profile \n",
    "\n",
    "    ```export PYTHONPATH=~/pybin/js:~/pybin/:$PYTHONPATH```\n",
    "\n",
    "\n",
    "7. Test this works by creating a new terminal window and typing the follwoing. If this does not return an error message, then it works!\n",
    "\n",
    "    ```python```\n",
    "\n",
    "    ```import js``` \n",
    "    \n",
    "8. You will also need to install the python library ```Biopython``` to your conda environment to use some of my scripts. Activate the conda environment you will use ```js``` in and install the following conda package https://anaconda.org/anaconda/biopython\n"
   ]
  },
  {
   "cell_type": "markdown",
   "id": "3036bbb2",
   "metadata": {},
   "source": [
    "# Download reference files"
   ]
  },
  {
   "cell_type": "markdown",
   "id": "1ee2fbd2",
   "metadata": {},
   "source": [
    "Reference files are too large to load to github. They can be found on our labs google drive here.\n",
    "\n",
    "https://drive.google.com/drive/u/1/folders/1EP85teWmxO69mGgdENufN6YEux7i3X33"
   ]
  },
  {
   "cell_type": "markdown",
   "id": "244870f2",
   "metadata": {},
   "source": [
    "# Load all packages"
   ]
  },
  {
   "cell_type": "code",
   "execution_count": 18,
   "id": "79fad1e1",
   "metadata": {},
   "outputs": [
    {
     "name": "stdout",
     "output_type": "stream",
     "text": [
      "Help on module js:\n",
      "\n",
      "NAME\n",
      "    js\n",
      "\n",
      "FUNCTIONS\n",
      "    basename(fn)\n",
      "    \n",
      "    dprint(d, n)\n",
      "    \n",
      "    get_basename(fn)\n",
      "    \n",
      "    listModules()\n",
      "    \n",
      "    million(number)\n",
      "    \n",
      "    percent(number)\n",
      "    \n",
      "    read_tsv(fn, pc=False, header=True, breakBool=False, sep='\\t', pc_list=False)\n",
      "    \n",
      "    strjoin(delim, l)\n",
      "    \n",
      "    write_row(rowList, delim='\\t')\n",
      "\n",
      "FILE\n",
      "    /Users/joe/pybin/js/js.py\n",
      "\n",
      "\n"
     ]
    }
   ],
   "source": [
    "import js\n",
    "import jsAff as jsa\n",
    "import jsDna as jsd\n",
    "import jsGenome as jsg\n",
    "\n",
    "help(js)"
   ]
  },
  {
   "cell_type": "code",
   "execution_count": 19,
   "id": "eb0ded40",
   "metadata": {},
   "outputs": [
    {
     "name": "stdout",
     "output_type": "stream",
     "text": [
      "js.py\n",
      "jsAff.py\n",
      "jsDna.py\n",
      "jsGataEts.py\n",
      "jsGenome.py\n",
      "jsNearGene.py\n",
      "jsPandas.py\n",
      "\n"
     ]
    }
   ],
   "source": [
    "# List all modules in the package\n",
    "js.listModules()"
   ]
  },
  {
   "cell_type": "markdown",
   "id": "7d61739e",
   "metadata": {},
   "source": [
    "# Affinity scripts"
   ]
  },
  {
   "cell_type": "markdown",
   "id": "3414c6f0",
   "metadata": {},
   "source": [
    "This module allows you to load affinity reference files in the form of a dictionary with ```key=dna_sequence``` and ```value=affinity``` where max affinity is 1.0"
   ]
  },
  {
   "cell_type": "code",
   "execution_count": 20,
   "id": "bae9e6a6",
   "metadata": {},
   "outputs": [
    {
     "name": "stdout",
     "output_type": "stream",
     "text": [
      "Help on module jsAff:\n",
      "\n",
      "NAME\n",
      "    jsAff\n",
      "\n",
      "FUNCTIONS\n",
      "    loadAr(ref='/Users/joe/code/ref/binding_affinity/ar/js-normalized-ar-8mer-affinities.tsv')\n",
      "        Ar. Returns dictionary with key=8mer dna sequence, value=affinity (0-1.0)\n",
      "    \n",
      "    loadEts(ref='/Users/joe/code/ref/binding_affinity/ets/parsed_Ets1_8mers.txt')\n",
      "        Ets1 from mouse. Returns dictionary with key=8mer dna sequence, value=affinity (0-1.0)\n",
      "    \n",
      "    loadGata4(ref='/Users/joe/code/ref/binding_affinity/gata4/js-normalized-gata4.tsv')\n",
      "        Gata4 Mariani 2017. Returns dictionary with key=8mer dna sequence, value=affinity (0-1.0)\n",
      "    \n",
      "    loadGata6(ref='/Users/joe/code/ref/binding_affinity/gata6/parsed_Gata6_3769_contig8mers.txt')\n",
      "        Gata6 Badis 2009\n",
      "    \n",
      "    loadNkx(ref='/Users/joe/code/ref/binding_affinity/nkx2-5/js-normalized-nkx25.tsv')\n",
      "        Nkx2 Barerra 2016. Returns dictionary with key=8mer dna sequence, value=affinity (0-1.0)\n",
      "    \n",
      "    loadTbx(ref='/Users/joe/code/ref/binding_affinity/tbx5/mariani-et-al-2017/js-normalized-tbx5-mariani2017.tsv')\n",
      "        Tbx5 Mariani 2017. Returns dictionary with key=8mer dna sequence, value=affinity (0-1.0)\n",
      "\n",
      "FILE\n",
      "    /Users/joe/pybin/js/jsAff.py\n",
      "\n",
      "\n"
     ]
    }
   ],
   "source": [
    "help(jsa)"
   ]
  },
  {
   "cell_type": "markdown",
   "id": "59250924",
   "metadata": {},
   "source": [
    "## Downloading affinity files"
   ]
  },
  {
   "cell_type": "markdown",
   "id": "eeda8073",
   "metadata": {},
   "source": [
    "Download here: https://drive.google.com/drive/u/1/folders/1DhCFV5_naMZRFjfwdsYMnGatXaTX824y"
   ]
  },
  {
   "cell_type": "markdown",
   "id": "36199f71",
   "metadata": {},
   "source": [
    "## Loading dictionary"
   ]
  },
  {
   "cell_type": "code",
   "execution_count": 21,
   "id": "7f9d1c7b",
   "metadata": {},
   "outputs": [
    {
     "name": "stdout",
     "output_type": "stream",
     "text": [
      "AAAAAAAA 0.14700431859740803\n"
     ]
    }
   ],
   "source": [
    "# Load Ets1 affinity data\n",
    "seq2aff=jsa.loadEts(ref='/Users/joe/code/ref/binding_affinity/ets/parsed_Ets1_8mers.txt')\n",
    "js.dprint(seq2aff,0)"
   ]
  },
  {
   "cell_type": "code",
   "execution_count": 22,
   "id": "56a993cb",
   "metadata": {},
   "outputs": [
    {
     "data": {
      "text/plain": [
       "(0.071, 1.0)"
      ]
     },
     "execution_count": 22,
     "metadata": {},
     "output_type": "execute_result"
    }
   ],
   "source": [
    "# Max and min affinities\n",
    "round(min(seq2aff.values()),3),max(seq2aff.values())"
   ]
  },
  {
   "cell_type": "code",
   "execution_count": 23,
   "id": "536036e2",
   "metadata": {},
   "outputs": [
    {
     "data": {
      "text/plain": [
       "1.0"
      ]
     },
     "execution_count": 23,
     "metadata": {},
     "output_type": "execute_result"
    }
   ],
   "source": [
    "# Max sequence. \n",
    "seq2aff['CCGGAAGT']"
   ]
  },
  {
   "cell_type": "code",
   "execution_count": 24,
   "id": "13354c1d",
   "metadata": {},
   "outputs": [
    {
     "data": {
      "text/plain": [
       "1.0"
      ]
     },
     "execution_count": 24,
     "metadata": {},
     "output_type": "execute_result"
    }
   ],
   "source": [
    "# Note that you can search for fwd or rev and get same answer.\n",
    "seq2aff[jsd.revcomp('CCGGAAGT')]"
   ]
  },
  {
   "cell_type": "markdown",
   "id": "fc164877",
   "metadata": {},
   "source": [
    "# Dna scripts"
   ]
  },
  {
   "cell_type": "markdown",
   "id": "b7f658c0",
   "metadata": {},
   "source": [
    "This module allows you to do various operations on DNA sequence"
   ]
  },
  {
   "cell_type": "code",
   "execution_count": 25,
   "id": "524fe9ca",
   "metadata": {},
   "outputs": [
    {
     "name": "stdout",
     "output_type": "stream",
     "text": [
      "Help on module jsDna:\n",
      "\n",
      "NAME\n",
      "    jsDna\n",
      "\n",
      "FUNCTIONS\n",
      "    GenerateAllPossibleSequences(template)\n",
      "        Takes a string with letters A,T,C,G,N and returns all possible DNA strings converting N=>A,T,G,C\n",
      "    \n",
      "    GenerateRandomDNA(length)\n",
      "        Takes length as input and returns a random DNA string of that length.\n",
      "    \n",
      "    GenerateSingleRandomSequence(template)\n",
      "        Takes a string with letters A,T,C,G,N and returns a DNA string with rnadom AGTC nucleotides at position(s) with N.\n",
      "    \n",
      "    IupacToAllPossibleSequences(dna)\n",
      "        Takes DNA with IUPAC letters and returns all possible DNA strings with only A/G/T/C.\n",
      "    \n",
      "    IupacToRegexPattern(dna)\n",
      "        Takes DNA with IUPAC letters and returns a regex object that can search DNA with only A/T/G/C for the corresponding IUPAC DNA string.\n",
      "    \n",
      "    gc_content(seq)\n",
      "        Takes sequence as input and returns GC content from 0-1.0.\n",
      "    \n",
      "    get_kmers(string, k)\n",
      "        Takes DNA sequence as input and a kmer length and YIELDS all kmers of length K in the sequence.\n",
      "    \n",
      "    hamming(str1, str2)\n",
      "        Takes 2 strings as input and returns hamming distance\n",
      "    \n",
      "    revcomp(dna)\n",
      "        Takes DNA sequence as input and returns reverse complement\n",
      "    \n",
      "    revcomp_regex(pattern)\n",
      "        Takes a DNA regex object and returns the reverse complement of that regex object.\n",
      "\n",
      "DATA\n",
      "    Iupac2AllNt = {'A': ['A'], 'B': ['C', 'G', 'T'], 'C': ['C'], 'D': ['A'...\n",
      "\n",
      "FILE\n",
      "    /Users/joe/pybin/js/jsDna.py\n",
      "\n",
      "\n"
     ]
    }
   ],
   "source": [
    "import jsDna as jsd\n",
    "help(jsd)"
   ]
  },
  {
   "cell_type": "markdown",
   "id": "1137f73f",
   "metadata": {},
   "source": [
    "## Hamming Distance"
   ]
  },
  {
   "cell_type": "code",
   "execution_count": null,
   "id": "eccffbb9",
   "metadata": {},
   "outputs": [],
   "source": [
    "str1='AATTGGCC'\n",
    "str2='TTTTGGCC'\n",
    "jsd.hamming(str1, str2)    "
   ]
  },
  {
   "cell_type": "markdown",
   "id": "4ae27f74",
   "metadata": {},
   "source": [
    "## Reverse Complement"
   ]
  },
  {
   "cell_type": "code",
   "execution_count": null,
   "id": "ca7ef423",
   "metadata": {},
   "outputs": [],
   "source": [
    "dna='ATGC'\n",
    "jsd.revcomp(dna)    "
   ]
  },
  {
   "cell_type": "markdown",
   "id": "1569d9c2",
   "metadata": {},
   "source": [
    "## GC Content"
   ]
  },
  {
   "cell_type": "code",
   "execution_count": null,
   "id": "98cea5c4",
   "metadata": {},
   "outputs": [],
   "source": [
    "seq='ATGGCCAT'\n",
    "jsd.gc_content(seq)    "
   ]
  },
  {
   "cell_type": "markdown",
   "id": "9f71c83d",
   "metadata": {},
   "source": [
    "## Iterating over kmers"
   ]
  },
  {
   "cell_type": "code",
   "execution_count": null,
   "id": "0108e7ba",
   "metadata": {},
   "outputs": [],
   "source": [
    "string='AATTGGCC'\n",
    "k=3\n",
    "jsd.get_kmers(string, k)    "
   ]
  },
  {
   "cell_type": "code",
   "execution_count": null,
   "id": "77a924ab",
   "metadata": {},
   "outputs": [],
   "source": [
    "for kmer in jsd.get_kmers(string, k):\n",
    "    print(kmer) "
   ]
  },
  {
   "cell_type": "code",
   "execution_count": null,
   "id": "cd6e3aa5",
   "metadata": {},
   "outputs": [],
   "source": [
    "list(jsd.get_kmers(string, k))"
   ]
  },
  {
   "cell_type": "markdown",
   "id": "03bbcf4d",
   "metadata": {},
   "source": [
    "## Generating random DNA"
   ]
  },
  {
   "cell_type": "code",
   "execution_count": null,
   "id": "5927c76c",
   "metadata": {},
   "outputs": [],
   "source": [
    "length=5\n",
    "jsd.GenerateRandomDNA(length)    "
   ]
  },
  {
   "cell_type": "code",
   "execution_count": null,
   "id": "fe621c86",
   "metadata": {},
   "outputs": [],
   "source": [
    "template='AANAA'\n",
    "jsd.GenerateSingleRandomSequence(template)    "
   ]
  },
  {
   "cell_type": "code",
   "execution_count": null,
   "id": "98b19878",
   "metadata": {},
   "outputs": [],
   "source": [
    "template='AANAA'\n",
    "jsd.GenerateAllPossibleSequences(template)"
   ]
  },
  {
   "cell_type": "code",
   "execution_count": null,
   "id": "9c2c0284",
   "metadata": {},
   "outputs": [],
   "source": [
    "jsd.Iupac2AllNt"
   ]
  },
  {
   "cell_type": "code",
   "execution_count": null,
   "id": "416a72f3",
   "metadata": {},
   "outputs": [],
   "source": [
    "dna='AYN'\n",
    "jsd.IupacToAllPossibleSequences(dna)    "
   ]
  },
  {
   "cell_type": "code",
   "execution_count": null,
   "id": "c7f56239",
   "metadata": {},
   "outputs": [],
   "source": [
    "dna='AYN'\n",
    "pattern=jsd.IupacToRegexPattern(dna)    \n",
    "pattern"
   ]
  },
  {
   "cell_type": "code",
   "execution_count": null,
   "id": "00a79dc7",
   "metadata": {},
   "outputs": [],
   "source": [
    "jsd.revcomp_regex(pattern)"
   ]
  },
  {
   "cell_type": "markdown",
   "id": "ee6fcc89",
   "metadata": {},
   "source": [
    "# Genome scripts"
   ]
  },
  {
   "cell_type": "markdown",
   "id": "530fdacb",
   "metadata": {},
   "source": [
    "This module is used to load a genome as a dictionary with ```key=chromosome_name``` and ```value=chromosome_sequence```."
   ]
  },
  {
   "cell_type": "markdown",
   "id": "cc024f3b",
   "metadata": {},
   "source": [
    "## Download genome"
   ]
  },
  {
   "cell_type": "markdown",
   "id": "8011ef5b",
   "metadata": {},
   "source": [
    "Found here https://drive.google.com/drive/u/1/folders/1zRZUe7bcVZqB1qsYbjWSAHIAlGw-UyAb"
   ]
  },
  {
   "cell_type": "markdown",
   "id": "36e6142b",
   "metadata": {},
   "source": [
    "## Load genome"
   ]
  },
  {
   "cell_type": "code",
   "execution_count": 2,
   "id": "3712e303",
   "metadata": {},
   "outputs": [
    {
     "name": "stdout",
     "output_type": "stream",
     "text": [
      "Help on module jsGenome:\n",
      "\n",
      "NAME\n",
      "    jsGenome\n",
      "\n",
      "FUNCTIONS\n",
      "    loadCi08(file_genome='/Users/joe/code/ref/genomes/ciona/2008/JoinedScaffold.fasta')\n",
      "        Load 2008 ciona genome\n",
      "    \n",
      "    loadCi19(file_genome='/Users/joe/code/ref/genomes/ciona/2019/HT.Ref.fasta')\n",
      "        Load 2019 ciona genome\n",
      "    \n",
      "    loadCi19_beta(file_genome='/Users/joe/code/ref/genomes/ciona/2019/HT.Ref.forBetaTesting.fasta')\n",
      "        Load 2019 ciona genome (for beta testing, first 1kb of each chrom)\n",
      "    \n",
      "    loadDr11(file_genome='/Users/joe/code/ref/genomes/zebrafish/danRer11/danRer11.fa')\n",
      "        Load Zebrafish danRer11 genome\n",
      "    \n",
      "    loadGenome(file_genome)\n",
      "        Loads arbitrary genome\n",
      "    \n",
      "    loadHg19(file_genome='/Users/joe/code/ref/genomes/human/hg19/hg19.fa')\n",
      "        Load hg19  genome\n",
      "    \n",
      "    loadHg38(file_genome='/Users/joe/code/ref/genomes/human/hg38/hg38.fa')\n",
      "        Load hg38  genome\n",
      "    \n",
      "    loadMm10(file_genome='/Users/joe/code/ref/genomes/mouse/mm10/mm10.fa')\n",
      "        Load mm10 mouse genome\n",
      "\n",
      "FILE\n",
      "    /Users/joe/pybin/js/jsGenome.py\n",
      "\n",
      "\n"
     ]
    }
   ],
   "source": [
    "import jsGenome as jsg\n",
    "help(jsg)"
   ]
  },
  {
   "cell_type": "code",
   "execution_count": 3,
   "id": "b9d83ea1",
   "metadata": {},
   "outputs": [],
   "source": [
    "chr2seq=jsg.loadHg38()"
   ]
  },
  {
   "cell_type": "code",
   "execution_count": 6,
   "id": "6ec3c069",
   "metadata": {},
   "outputs": [
    {
     "data": {
      "text/plain": [
       "'chr1'"
      ]
     },
     "execution_count": 6,
     "metadata": {},
     "output_type": "execute_result"
    }
   ],
   "source": [
    "# Inspect keys of dictionary\n",
    "list(chr2seq.keys())[0]"
   ]
  },
  {
   "cell_type": "code",
   "execution_count": 7,
   "id": "daa16632",
   "metadata": {},
   "outputs": [
    {
     "data": {
      "text/plain": [
       "'AGGTATCCTCTCATCTCAGCTTCCCTAGTAGTTGGAACTCTAGGTGCACAACACCACACCAGTTATTATTATTATTTTTTAATTTTTTATAGAGACAGGT'"
      ]
     },
     "execution_count": 7,
     "metadata": {},
     "output_type": "execute_result"
    }
   ],
   "source": [
    "# print random location in genome\n",
    "chr2seq['chr1'][500000:500100]"
   ]
  },
  {
   "cell_type": "markdown",
   "id": "f5529e57",
   "metadata": {},
   "source": [
    "# Reading other files"
   ]
  },
  {
   "cell_type": "code",
   "execution_count": 9,
   "id": "2f64709a",
   "metadata": {},
   "outputs": [
    {
     "name": "stdout",
     "output_type": "stream",
     "text": [
      "Help on function read_tsv in module js:\n",
      "\n",
      "read_tsv(fn, pc=False, header=True, breakBool=False, sep='\\t', pc_list=False)\n",
      "\n"
     ]
    }
   ],
   "source": [
    "import js\n",
    "help(js.read_tsv)"
   ]
  },
  {
   "cell_type": "markdown",
   "id": "0c1ee512",
   "metadata": {},
   "source": [
    "## Tab separated value file "
   ]
  },
  {
   "cell_type": "code",
   "execution_count": 11,
   "id": "f42a6f10",
   "metadata": {},
   "outputs": [
    {
     "name": "stdout",
     "output_type": "stream",
     "text": [
      "0 name\n",
      "1 sequence\n",
      "2 value\n",
      "\n"
     ]
    }
   ],
   "source": [
    "# Define file name\n",
    "fn='./test-data/test.tsv'\n",
    "\n",
    "# Usually you will just use the parameters 'fn','pc' (printcols), 'header'\n",
    "\n",
    "# Usually you want to start by viewing what column is at what pythonic index in the row\n",
    "for row in js.read_tsv(fn, pc=True, header=True):\n",
    "    pass"
   ]
  },
  {
   "cell_type": "code",
   "execution_count": 12,
   "id": "2653ec45",
   "metadata": {},
   "outputs": [
    {
     "name": "stdout",
     "output_type": "stream",
     "text": [
      "row = ['a', 'ATG', '1.0']\n",
      "a ATG 1.0\n",
      "\n",
      "row = ['b', 'AAA', '3.1']\n",
      "b AAA 3.1\n",
      "\n"
     ]
    }
   ],
   "source": [
    "# Now that we know what row is at what index, we can load each row\n",
    "for row in js.read_tsv(fn, pc=False, header=True):\n",
    "    print(\"row =\",row)\n",
    "    \n",
    "    name,seq,val=row\n",
    "    print(name,seq,val)\n",
    "    \n",
    "    print()"
   ]
  },
  {
   "cell_type": "markdown",
   "id": "905f2cee",
   "metadata": {},
   "source": [
    "## Bed file\n"
   ]
  },
  {
   "cell_type": "code",
   "execution_count": 13,
   "id": "50f579f8",
   "metadata": {},
   "outputs": [
    {
     "name": "stdout",
     "output_type": "stream",
     "text": [
      "0 chr1\n",
      "1 500000\n",
      "2 501000\n",
      "\n"
     ]
    }
   ],
   "source": [
    "# Define file name\n",
    "fn='./test-data/test.bed'\n",
    "\n",
    "# This program assumes the bed file has no headers. Bed file headers start with a '#', so if you really want \n",
    "# to read in a bed file with headers you can just skip all rows with a '#' at the begining of each column.\n",
    "\n",
    "for row in js.read_tsv(fn, pc=True, header=False):\n",
    "    pass"
   ]
  },
  {
   "cell_type": "code",
   "execution_count": 27,
   "id": "54e2f26e",
   "metadata": {},
   "outputs": [
    {
     "name": "stdout",
     "output_type": "stream",
     "text": [
      "TTGGAACT 0.12\n"
     ]
    }
   ],
   "source": [
    "# Now you can do things like iterate over all kmers for each entry in the bed file\n",
    "for row in js.read_tsv(fn, pc=False, header=False):\n",
    "    chrom,start,end=row\n",
    "    start,end=int(start),int(end)\n",
    "    \n",
    "    seq=chr2seq[chrom][start:end]\n",
    "    for kmer in jsd.get_kmers(seq,8):\n",
    "        \n",
    "        # Find one example of an ets binding site and leave\n",
    "        if kmer[2:6] in ['GGAA']:\n",
    "            affinity = round(seq2aff[kmer],2)\n",
    "            print(kmer,affinity)\n",
    "            break\n",
    "    break"
   ]
  }
 ],
 "metadata": {
  "kernelspec": {
   "display_name": "Python 3",
   "language": "python",
   "name": "python3"
  },
  "language_info": {
   "codemirror_mode": {
    "name": "ipython",
    "version": 3
   },
   "file_extension": ".py",
   "mimetype": "text/x-python",
   "name": "python",
   "nbconvert_exporter": "python",
   "pygments_lexer": "ipython3",
   "version": "3.8.5"
  }
 },
 "nbformat": 4,
 "nbformat_minor": 5
}
