{
 "cells": [
  {
   "cell_type": "markdown",
   "id": "872f841d",
   "metadata": {},
   "source": [
    "# Installation"
   ]
  },
  {
   "cell_type": "markdown",
   "id": "7f6282b4",
   "metadata": {},
   "source": [
    "To install these scripts I suggest doing the following:\n",
    "\n",
    "1. Create folder in home directory called pybin. Open terminal then type \n",
    "    \n",
    "    ```cd ```\n",
    "    \n",
    "    ```mkdir ~/pybin```\n",
    "\n",
    "2. Clone this github repo into pybin. \n",
    "    \n",
    "    ```cd pybin``` \n",
    "    \n",
    "    ```git clone https://github.com/jsolvason/js```\n",
    "    \n",
    "3. Go back to your home directory \n",
    "\n",
    "    ```cd ~```\n",
    "\n",
    "4. Find your bash profile (The profile will be called ```.bash_profile```,```.bashrc```, or ```.zshrc```).\n",
    "\n",
    "    ```ls -a ~``` \n",
    "\n",
    "5. Open your bash profile with the terminal word processor (this assumes its named ```.zshrc```) \n",
    "\n",
    "    ```nano ~./zshrc```\n",
    "\n",
    "6. Add the following line to your bash profile \n",
    "\n",
    "    ```export PYTHONPATH=~/pybin/js:~/pybin/:$PYTHONPATH```\n",
    "\n",
    "\n",
    "7. Test this works by creating a new terminal window and typing the follwoing. If this does not return an error message, then it works!\n",
    "\n",
    "    ```python```\n",
    "\n",
    "    ```import js``` \n",
    "    \n",
    "8. You will also need to install the python library ```Biopython``` to your conda environment to use some of my scripts. Activate the conda environment you will use ```js``` in and install the following conda package https://anaconda.org/anaconda/biopython\n"
   ]
  },
  {
   "cell_type": "markdown",
   "id": "f7698f7d",
   "metadata": {},
   "source": [
    "# Download reference files"
   ]
  },
  {
   "cell_type": "markdown",
   "id": "6a50bc4d",
   "metadata": {},
   "source": [
    "Reference files are too large to load to github. They can be found on our labs google drive here.\n",
    "\n",
    "https://drive.google.com/drive/u/1/folders/1EP85teWmxO69mGgdENufN6YEux7i3X33"
   ]
  },
  {
   "cell_type": "markdown",
   "id": "aebb26ca",
   "metadata": {},
   "source": [
    "# Load all packages"
   ]
  },
  {
   "cell_type": "code",
   "execution_count": 1,
   "id": "ffaad980",
   "metadata": {},
   "outputs": [],
   "source": [
    "import js\n",
    "import jsAff as jsa\n",
    "import jsDna as jsd\n",
    "import jsGenome as jsg\n",
    "import jsMpra as jsm\n",
    "import jsSeq as jss"
   ]
  },
  {
   "cell_type": "markdown",
   "id": "b8772f42-d022-4e9d-b52d-07d428dab5a8",
   "metadata": {},
   "source": [
    "# js"
   ]
  },
  {
   "cell_type": "code",
   "execution_count": 2,
   "id": "3d49ce83",
   "metadata": {},
   "outputs": [
    {
     "name": "stdout",
     "output_type": "stream",
     "text": [
      "Help on module js:\n",
      "\n",
      "NAME\n",
      "    js\n",
      "\n",
      "FUNCTIONS\n",
      "    dprint(d, n=0)\n",
      "        Print a dictionary\n",
      "    \n",
      "    flatten_list(l)\n",
      "        Returns [1,2,3,4] for inputted [[1,2],[3,4]]\n",
      "    \n",
      "    get_basename(fn)\n",
      "        Get basename of file. e.g. /path/to/file.suff1.txt => file\n",
      "    \n",
      "    get_todays_datestring(format='%Y%m%d')\n",
      "        Get todays date as string formatted YYYYMMDD\n",
      "    \n",
      "    md5_comparison(md52fn1, title1, md52fn2, title2)\n",
      "        Compare md5s of files at two locations to ensure successful datatransfer\n",
      "    \n",
      "    md5_comparison_from_filenames(fn1, parsetype1, title1, fn2, parsetype2, title2)\n",
      "        Wrapper function to simply plug in two md5.txt files and compare md5 sums\n",
      "    \n",
      "    million(number)\n",
      "        Get number in terms of million\n",
      "    \n",
      "    mkdir_if_dir_not_exists(out_dir)\n",
      "        Make a directory only if that directory doesnt exist\n",
      "    \n",
      "    percent(number, rounding_digit=1)\n",
      "        Get percent of fraction\n",
      "    \n",
      "    read_tsv(fn, pc, header, breakBool=False, sep='\\t', pc_list=False)\n",
      "        Read a tsv file\n",
      "    \n",
      "    replace_chars_with_null(string, charList)\n",
      "        Deletes all input characters in string\n",
      "    \n",
      "    strjoin(delim, l)\n",
      "        Join items in a list into a string\n",
      "    \n",
      "    text2md5(md5fn, parse_type)\n",
      "        Create md52fn pydict for ensuring md5sums are correct.\n",
      "    \n",
      "    time_iter_progress(lc, n, timestart, end='\\n')\n",
      "        Time processing or analysis progress.\n",
      "    \n",
      "    tsv_to_excel(inTsv, outExcel='')\n",
      "        Convert a .tsv to .xlsx\n",
      "    \n",
      "    write_row(rowList, delim='\\t')\n",
      "        Write a single row of a tsv file.\n",
      "\n",
      "FILE\n",
      "    /Users/joe/Farley Lab Dropbox/Joe/bin/js/js.py\n",
      "\n",
      "\n"
     ]
    }
   ],
   "source": [
    "import js\n",
    "help(js)"
   ]
  },
  {
   "cell_type": "markdown",
   "id": "c68ee994-dfbb-42ca-812f-767d17ba96ee",
   "metadata": {},
   "source": [
    "## Read tsv"
   ]
  },
  {
   "cell_type": "code",
   "execution_count": 3,
   "id": "f3b2f126",
   "metadata": {},
   "outputs": [
    {
     "name": "stdout",
     "output_type": "stream",
     "text": [
      "0 name\n",
      "1 sequence\n",
      "2 value\n",
      "\n"
     ]
    }
   ],
   "source": [
    "# Define file name\n",
    "fn='./test-data/test.tsv'\n",
    "\n",
    "# Usually you will just use the parameters 'fn','pc' (printcols), 'header'\n",
    "\n",
    "# Usually you want to start by viewing what column is at what pythonic index in the row\n",
    "for row in js.read_tsv(fn, pc=True, header=True):\n",
    "    pass"
   ]
  },
  {
   "cell_type": "code",
   "execution_count": 4,
   "id": "6773c710",
   "metadata": {},
   "outputs": [
    {
     "name": "stdout",
     "output_type": "stream",
     "text": [
      "a ATG 1.0\n",
      "b AAA 3.1\n"
     ]
    }
   ],
   "source": [
    "# Now that we know what row is at what index, we can load each row\n",
    "for row in js.read_tsv(fn, pc=False, header=True):\n",
    "    name,seq,val=row\n",
    "    print(name,seq,val)"
   ]
  },
  {
   "cell_type": "markdown",
   "id": "88ad2793-afe3-456f-9b03-f09dcafe8dc2",
   "metadata": {},
   "source": [
    "## Read bed\n"
   ]
  },
  {
   "cell_type": "code",
   "execution_count": 5,
   "id": "f3cdd699",
   "metadata": {},
   "outputs": [
    {
     "name": "stdout",
     "output_type": "stream",
     "text": [
      "0 chr1\n",
      "1 500000\n",
      "2 501000\n",
      "\n"
     ]
    }
   ],
   "source": [
    "# Define file name\n",
    "fn='./test-data/test.bed'\n",
    "\n",
    "# This program assumes the bed file has no headers. Bed file headers start with a '#', so if you really want \n",
    "# to read in a bed file with headers you can just skip all rows with a '#' at the begining of each column.\n",
    "\n",
    "for row in js.read_tsv(fn, pc=True, header=False):\n",
    "    pass"
   ]
  },
  {
   "cell_type": "code",
   "execution_count": 6,
   "id": "b2fa7e8b",
   "metadata": {},
   "outputs": [
    {
     "name": "stdout",
     "output_type": "stream",
     "text": [
      "GTATCCTC 0.16\n"
     ]
    }
   ],
   "source": [
    "# Now you can do things like iterate over all kmers for each entry in the bed file.\n",
    "#   This is how we search for 8bp ETS binding sites.\n",
    "\n",
    "# Load genome\n",
    "chr2seq=jsg.pklLoadGenome('/Users/joe/code/ref/genomes/human/hg38/hg38.fa.chr2seq.pydict.pickle')\n",
    "\n",
    "# Load Affinity Data\n",
    "seq2aff=jsa.loadAff(ref='/Users/joe/code/ref/binding_affinity/ets/parsed_Ets1_8mers.txt')\n",
    "\n",
    "# Read bed\n",
    "for row in js.read_tsv(fn, pc=False, header=False):\n",
    "    chrom,start,end=row\n",
    "    start,end=int(start),int(end)\n",
    "    \n",
    "    seq=chr2seq[chrom][start:end]\n",
    "    for kmer in jsd.get_kmers(seq,8):\n",
    "        \n",
    "        # Find one example of an ets binding site and leave\n",
    "        if kmer[2:6] in ['GGAA','GGAT','TTCC','ATCC']:\n",
    "            affinity = round(seq2aff[kmer],2)\n",
    "            print(kmer,affinity)\n",
    "            break\n",
    "    break"
   ]
  },
  {
   "cell_type": "markdown",
   "id": "3f3c5240",
   "metadata": {},
   "source": [
    "# jsAffinity"
   ]
  },
  {
   "cell_type": "markdown",
   "id": "f9d7d322",
   "metadata": {},
   "source": [
    "This module allows you to load affinity reference files in the form of a dictionary with ```key=dna_sequence``` and ```value=affinity``` where max affinity is 1.0"
   ]
  },
  {
   "cell_type": "code",
   "execution_count": 7,
   "id": "23af1dc8",
   "metadata": {},
   "outputs": [
    {
     "name": "stdout",
     "output_type": "stream",
     "text": [
      "Help on module jsAff:\n",
      "\n",
      "NAME\n",
      "    jsAff\n",
      "\n",
      "FUNCTIONS\n",
      "    loadAff(ref)\n",
      "        Load an arbitrary affinity dataset. First column should be 8mer DNA \n",
      "        sequence and second column should be the normalized affinity (between 0-1).\n",
      "\n",
      "DATA\n",
      "    __warningregistry__ = {'version': 99}\n",
      "    etsCores = {'ATCC', 'GGAA', 'GGAT', 'TTCC'}\n",
      "    gataCores = {'GATA', 'TATC'}\n",
      "\n",
      "FILE\n",
      "    /Users/joe/Farley Lab Dropbox/Joe/bin/js/jsAff.py\n",
      "\n",
      "\n"
     ]
    }
   ],
   "source": [
    "import jsAff as jsa\n",
    "help(jsa)"
   ]
  },
  {
   "cell_type": "markdown",
   "id": "6793ce83",
   "metadata": {},
   "source": [
    "## Downloading affinity files"
   ]
  },
  {
   "cell_type": "markdown",
   "id": "45892d43",
   "metadata": {},
   "source": [
    "Download here: https://drive.google.com/drive/u/1/folders/1DhCFV5_naMZRFjfwdsYMnGatXaTX824y"
   ]
  },
  {
   "cell_type": "markdown",
   "id": "5039a6b1",
   "metadata": {},
   "source": [
    "## Loading dictionary"
   ]
  },
  {
   "cell_type": "code",
   "execution_count": 8,
   "id": "105b0823-fe5a-497c-9908-d188021bf138",
   "metadata": {},
   "outputs": [],
   "source": [
    "# Load Ets1 affinity data\n",
    "seq2aff=jsa.loadAff(ref='/Users/joe/code/ref/binding_affinity/ets/parsed_Ets1_8mers.txt')"
   ]
  },
  {
   "cell_type": "code",
   "execution_count": 9,
   "id": "82b01bdc-a81b-4ddc-80e7-9cb6d6245ea1",
   "metadata": {},
   "outputs": [
    {
     "name": "stdout",
     "output_type": "stream",
     "text": [
      "AAAAAAAA 0.14700431859740803\n"
     ]
    }
   ],
   "source": [
    "# Note that all DNA 8mers measured, even thouse which are not real binding sites\n",
    "js.dprint(seq2aff,0)"
   ]
  },
  {
   "cell_type": "code",
   "execution_count": 10,
   "id": "0cadcda6",
   "metadata": {},
   "outputs": [
    {
     "data": {
      "text/plain": [
       "(0.071, 1.0)"
      ]
     },
     "execution_count": 10,
     "metadata": {},
     "output_type": "execute_result"
    }
   ],
   "source": [
    "# Max and min affinities\n",
    "round(min(seq2aff.values()),3),max(seq2aff.values())"
   ]
  },
  {
   "cell_type": "code",
   "execution_count": 11,
   "id": "ab243a50",
   "metadata": {},
   "outputs": [
    {
     "data": {
      "text/plain": [
       "1.0"
      ]
     },
     "execution_count": 11,
     "metadata": {},
     "output_type": "execute_result"
    }
   ],
   "source": [
    "# Max sequence. \n",
    "seq2aff['CCGGAAGT']"
   ]
  },
  {
   "cell_type": "code",
   "execution_count": 12,
   "id": "24f446be",
   "metadata": {},
   "outputs": [
    {
     "data": {
      "text/plain": [
       "1.0"
      ]
     },
     "execution_count": 12,
     "metadata": {},
     "output_type": "execute_result"
    }
   ],
   "source": [
    "# Note that you can search for fwd or rev and get same answer.\n",
    "seq2aff[jsd.revcomp('CCGGAAGT')]"
   ]
  },
  {
   "cell_type": "markdown",
   "id": "1b0d71df",
   "metadata": {},
   "source": [
    "# jsDna"
   ]
  },
  {
   "cell_type": "markdown",
   "id": "6870cafa",
   "metadata": {},
   "source": [
    "This module allows you to do various operations on DNA sequence"
   ]
  },
  {
   "cell_type": "code",
   "execution_count": 13,
   "id": "6b56631b",
   "metadata": {},
   "outputs": [
    {
     "name": "stdout",
     "output_type": "stream",
     "text": [
      "Help on module jsDna:\n",
      "\n",
      "NAME\n",
      "    jsDna\n",
      "\n",
      "FUNCTIONS\n",
      "    GenerateAllPossibleSequences(template)\n",
      "        Takes a string with letters A,T,C,G,N and returns all possible DNA strings converting N=>A,T,G,C\n",
      "    \n",
      "    GenerateRandomDNA(length)\n",
      "        Takes length as input and returns a random DNA string of that length.\n",
      "    \n",
      "    GenerateSingleRandomSequence(template)\n",
      "        Takes a string with letters A,T,C,G,IUPAC and returns a DNA string with rnadom AGTC nucleotides at position(s) with N.\n",
      "    \n",
      "    IupacToAllPossibleSequences(dna)\n",
      "        Takes DNA with IUPAC letters and returns all possible DNA strings with only A/G/T/C.\n",
      "    \n",
      "    IupacToRegexPattern(dna)\n",
      "        Takes DNA with IUPAC letters and returns a regex object that can search DNA with only A/T/G/C for the corresponding IUPAC DNA string.\n",
      "    \n",
      "    count_with_revcomp(pattern, seq)\n",
      "    \n",
      "    count_with_revcomp_re(re_pattern, length, seqFwd)\n",
      "        A method to search dna sequence using re expression allowing for overlaps.\n",
      "    \n",
      "    gc_content(seq)\n",
      "        Takes sequence as input and returns GC content from 0-1.0.\n",
      "    \n",
      "    get_kmers(string, k)\n",
      "        Takes DNA sequence as input and a kmer length and YIELDS all kmers of length K in the sequence.\n",
      "    \n",
      "    hamming(str1, str2)\n",
      "        Takes 2 strings as input and returns hamming distance\n",
      "    \n",
      "    revcomp(dna)\n",
      "        Takes DNA sequence as input and returns reverse complement\n",
      "    \n",
      "    revcomp_regex(pattern)\n",
      "        Takes a DNA regex object and returns the reverse complement of that regex object.\n",
      "\n",
      "DATA\n",
      "    ATGC = {'A', 'C', 'G', 'T'}\n",
      "    Iupac2AllNt = {'A': ['A'], 'B': ['C', 'G', 'T'], 'C': ['C'], 'D': ['A'...\n",
      "\n",
      "FILE\n",
      "    /Users/joe/Farley Lab Dropbox/Joe/bin/js/jsDna.py\n",
      "\n",
      "\n"
     ]
    }
   ],
   "source": [
    "import jsDna as jsd\n",
    "help(jsd)"
   ]
  },
  {
   "cell_type": "markdown",
   "id": "e35ca549-9f8d-4a72-9eb1-251d656377bc",
   "metadata": {},
   "source": [
    "## IUPAC Definitions"
   ]
  },
  {
   "cell_type": "code",
   "execution_count": 14,
   "id": "e49211ce-a9b1-4857-838a-b747e819a0a3",
   "metadata": {},
   "outputs": [
    {
     "data": {
      "text/plain": [
       "{'A': ['A'],\n",
       " 'C': ['C'],\n",
       " 'G': ['G'],\n",
       " 'T': ['T'],\n",
       " 'R': ['A', 'G'],\n",
       " 'Y': ['C', 'T'],\n",
       " 'S': ['G', 'C'],\n",
       " 'W': ['A', 'T'],\n",
       " 'K': ['G', 'T'],\n",
       " 'M': ['A', 'C'],\n",
       " 'B': ['C', 'G', 'T'],\n",
       " 'D': ['A', 'G', 'T'],\n",
       " 'H': ['A', 'C', 'T'],\n",
       " 'V': ['A', 'C', 'G'],\n",
       " 'N': ['A', 'C', 'G', 'T']}"
      ]
     },
     "execution_count": 14,
     "metadata": {},
     "output_type": "execute_result"
    }
   ],
   "source": [
    "jsd.Iupac2AllNt"
   ]
  },
  {
   "cell_type": "markdown",
   "id": "83c733a6-0aa7-40ac-b343-318f83917c22",
   "metadata": {},
   "source": [
    "## Reverse Complement"
   ]
  },
  {
   "cell_type": "code",
   "execution_count": 15,
   "id": "01fd12d8",
   "metadata": {},
   "outputs": [
    {
     "data": {
      "text/plain": [
       "'GCAT'"
      ]
     },
     "execution_count": 15,
     "metadata": {},
     "output_type": "execute_result"
    }
   ],
   "source": [
    "dna='ATGC'\n",
    "jsd.revcomp(dna)    "
   ]
  },
  {
   "cell_type": "markdown",
   "id": "de333aa9-ccfe-47d9-8eed-b4352a23f20d",
   "metadata": {},
   "source": [
    "## Count a DNA pattern & its reverse complement"
   ]
  },
  {
   "cell_type": "code",
   "execution_count": 16,
   "id": "176684ce",
   "metadata": {},
   "outputs": [
    {
     "data": {
      "text/plain": [
       "3"
      ]
     },
     "execution_count": 16,
     "metadata": {},
     "output_type": "execute_result"
    }
   ],
   "source": [
    "pattern='GGAA'\n",
    "seq='AAAGGAATTTGGAACCCTTCCTT'\n",
    "jsd.count_with_revcomp(pattern,seq)"
   ]
  },
  {
   "cell_type": "markdown",
   "id": "ca8cedaf-2391-4b0a-ba6b-676e082776cf",
   "metadata": {},
   "source": [
    "## Iterating over kmers"
   ]
  },
  {
   "cell_type": "code",
   "execution_count": 17,
   "id": "3ea7ce65",
   "metadata": {},
   "outputs": [
    {
     "name": "stdout",
     "output_type": "stream",
     "text": [
      "AAT\n",
      "ATT\n",
      "TTG\n",
      "TGG\n",
      "GGC\n",
      "GCC\n"
     ]
    }
   ],
   "source": [
    "string='AATTGGCC'\n",
    "k=3\n",
    "for kmer in jsd.get_kmers(string, k): print(kmer)"
   ]
  },
  {
   "cell_type": "markdown",
   "id": "351ce0a1-5a1c-4ded-a4bb-50d9d288a244",
   "metadata": {},
   "source": [
    "## Generating random DNA"
   ]
  },
  {
   "cell_type": "code",
   "execution_count": 18,
   "id": "e5899fc6",
   "metadata": {},
   "outputs": [
    {
     "data": {
      "text/plain": [
       "'GGCTC'"
      ]
     },
     "execution_count": 18,
     "metadata": {},
     "output_type": "execute_result"
    }
   ],
   "source": [
    "length=5\n",
    "jsd.GenerateRandomDNA(length)    "
   ]
  },
  {
   "cell_type": "code",
   "execution_count": 19,
   "id": "2708ee27",
   "metadata": {},
   "outputs": [
    {
     "data": {
      "text/plain": [
       "'AAGAA'"
      ]
     },
     "execution_count": 19,
     "metadata": {},
     "output_type": "execute_result"
    }
   ],
   "source": [
    "template='AANAA'\n",
    "jsd.GenerateSingleRandomSequence(template)    "
   ]
  },
  {
   "cell_type": "code",
   "execution_count": 20,
   "id": "f88302b9",
   "metadata": {},
   "outputs": [
    {
     "data": {
      "text/plain": [
       "{'AAAAA', 'AACAA', 'AAGAA', 'AATAA'}"
      ]
     },
     "execution_count": 20,
     "metadata": {},
     "output_type": "execute_result"
    }
   ],
   "source": [
    "template='AANAA'\n",
    "jsd.GenerateAllPossibleSequences(template)"
   ]
  },
  {
   "cell_type": "code",
   "execution_count": 21,
   "id": "c8b16eaa",
   "metadata": {},
   "outputs": [
    {
     "data": {
      "text/plain": [
       "['ACA', 'ACC', 'ACG', 'ACT', 'ATA', 'ATC', 'ATG', 'ATT']"
      ]
     },
     "execution_count": 21,
     "metadata": {},
     "output_type": "execute_result"
    }
   ],
   "source": [
    "dna='AYN'\n",
    "jsd.IupacToAllPossibleSequences(dna)    "
   ]
  },
  {
   "cell_type": "code",
   "execution_count": 22,
   "id": "610dadb3",
   "metadata": {},
   "outputs": [
    {
     "data": {
      "text/plain": [
       "('A(C|T)(A|C|G|T)', '(A|C|G|T)(A|G)T')"
      ]
     },
     "execution_count": 22,
     "metadata": {},
     "output_type": "execute_result"
    }
   ],
   "source": [
    "dna='AYN'\n",
    "pattern=jsd.IupacToRegexPattern(dna)    \n",
    "pattern,jsd.revcomp_regex(pattern)"
   ]
  },
  {
   "cell_type": "code",
   "execution_count": 23,
   "id": "7bbcd1cb-498c-4275-aff6-df913cb47bbc",
   "metadata": {},
   "outputs": [
    {
     "data": {
      "text/plain": [
       "3"
      ]
     },
     "execution_count": 23,
     "metadata": {},
     "output_type": "execute_result"
    }
   ],
   "source": [
    "pattern='GGAW'\n",
    "pattern=jsd.IupacToRegexPattern(pattern)  \n",
    "seq='AAAGGAATTTGGAACCCTTCCTT'\n",
    "jsd.count_with_revcomp_re(pattern,4,seq)"
   ]
  },
  {
   "cell_type": "markdown",
   "id": "4286b613",
   "metadata": {},
   "source": [
    "## Hamming Distance"
   ]
  },
  {
   "cell_type": "code",
   "execution_count": 24,
   "id": "f9992b98",
   "metadata": {},
   "outputs": [
    {
     "data": {
      "text/plain": [
       "2"
      ]
     },
     "execution_count": 24,
     "metadata": {},
     "output_type": "execute_result"
    }
   ],
   "source": [
    "str1='AATTGGCC'\n",
    "str2='TTTTGGCC'\n",
    "jsd.hamming(str1, str2)    "
   ]
  },
  {
   "cell_type": "markdown",
   "id": "b3231d85",
   "metadata": {},
   "source": [
    "## GC Content"
   ]
  },
  {
   "cell_type": "code",
   "execution_count": 25,
   "id": "e3545fbb",
   "metadata": {},
   "outputs": [
    {
     "data": {
      "text/plain": [
       "0.5"
      ]
     },
     "execution_count": 25,
     "metadata": {},
     "output_type": "execute_result"
    }
   ],
   "source": [
    "seq='ATGGCCAT'\n",
    "jsd.gc_content(seq)    "
   ]
  },
  {
   "cell_type": "markdown",
   "id": "0a4f9de6",
   "metadata": {},
   "source": [
    "# jsGenome"
   ]
  },
  {
   "cell_type": "markdown",
   "id": "24154095",
   "metadata": {},
   "source": [
    "This module is used to load a genome as a dictionary with ```key=chromosome_name``` and ```value=chromosome_sequence```."
   ]
  },
  {
   "cell_type": "code",
   "execution_count": 26,
   "id": "aff9900b-7478-437b-8b72-d071c5b82042",
   "metadata": {},
   "outputs": [
    {
     "name": "stdout",
     "output_type": "stream",
     "text": [
      "Help on module jsGenome:\n",
      "\n",
      "NAME\n",
      "    jsGenome\n",
      "\n",
      "FUNCTIONS\n",
      "    choose_random_chrom_pos(genomeLen, Chrom2NumStartEnd)\n",
      "    \n",
      "    faLoadGenome(file_genome)\n",
      "        Loads arbitrary genome\n",
      "    \n",
      "    generate_Chrom2NumStartEnd(chr2seq)\n",
      "        Generates obj for choose_random_chrom_pos()\n",
      "    \n",
      "    getLiftoverObject(startGenome, endGenome)\n",
      "        A method to create a liftover object for jsg.liftover()\n",
      "    \n",
      "    liftover_interval_batch(in_bed, loObject, out_bed)\n",
      "        A method to liftover intervals (chrom,start,end) from an entire bed file\n",
      "    \n",
      "    liftover_pos(liftOverObject, c, s)\n",
      "        A method to liftover a single chrom/pos pair\n",
      "    \n",
      "    liftover_start_end(liftOverObject, c, s, e)\n",
      "        A method to liftover a chrom/start/end.\n",
      "    \n",
      "    parse_cse(cse)\n",
      "        A method to convert genome broser coords (ie chr1:1,000,000-1,200,000) to python variables.\n",
      "    \n",
      "    pklLoadGenome(pickled_file_genome)\n",
      "        Loads arbitrary genome\n",
      "\n",
      "FILE\n",
      "    /Users/joe/Farley Lab Dropbox/Joe/bin/js/jsGenome.py\n",
      "\n",
      "\n"
     ]
    }
   ],
   "source": [
    "import jsGenome as jsg\n",
    "help(jsg)"
   ]
  },
  {
   "cell_type": "markdown",
   "id": "c051f2ab",
   "metadata": {},
   "source": [
    "## Change coordinates from browser format to python variables"
   ]
  },
  {
   "cell_type": "code",
   "execution_count": 27,
   "id": "fb777026",
   "metadata": {},
   "outputs": [
    {
     "data": {
      "text/plain": [
       "('chr8', 11617341, 11618340)"
      ]
     },
     "execution_count": 27,
     "metadata": {},
     "output_type": "execute_result"
    }
   ],
   "source": [
    "# def parse_cse(cse):\n",
    "#     '''A method to convert genome broser coords (ie chr1:1,000,000-1,200,000) to python variables.'''\n",
    "#     c,se=cse.split(':')\n",
    "#     s,e=[int(i.replace(',','')) for i in se.split('-')]\n",
    "#     return c,s,e\n",
    "    \n",
    "jsg.parse_cse('chr8:11,617,341-11,618,340')"
   ]
  },
  {
   "cell_type": "markdown",
   "id": "026ad917",
   "metadata": {},
   "source": [
    "## Download genomes to your computer"
   ]
  },
  {
   "cell_type": "markdown",
   "id": "1b955065",
   "metadata": {},
   "source": [
    "Found here https://drive.google.com/drive/u/1/folders/1zRZUe7bcVZqB1qsYbjWSAHIAlGw-UyAb"
   ]
  },
  {
   "cell_type": "markdown",
   "id": "814fba73",
   "metadata": {},
   "source": [
    "## Load genome"
   ]
  },
  {
   "cell_type": "code",
   "execution_count": 28,
   "id": "ba677e4c",
   "metadata": {},
   "outputs": [],
   "source": [
    "# Fastest method is to load binary python object saved\n",
    "chr2seq=jsg.pklLoadGenome('/Users/joe/code/ref/genomes/human/hg38/hg38.fa.chr2seq.pydict.pickle')"
   ]
  },
  {
   "cell_type": "code",
   "execution_count": 30,
   "id": "6159d78a-a2d9-4499-ae11-d71a1dbfa3a6",
   "metadata": {},
   "outputs": [],
   "source": [
    "# You can also load fasta file as genome\n",
    "# chr2seq=jsg.faLoadGenome('/Users/joe/code/ref/genomes/human/hg38/hg38.fa')"
   ]
  },
  {
   "cell_type": "code",
   "execution_count": 31,
   "id": "ef5a4085",
   "metadata": {},
   "outputs": [
    {
     "data": {
      "text/plain": [
       "['chr1', 'chr10', 'chr11', 'chr11_KI270721v1_random', 'chr12']"
      ]
     },
     "execution_count": 31,
     "metadata": {},
     "output_type": "execute_result"
    }
   ],
   "source": [
    "# Inspect keys of dictionary\n",
    "list(chr2seq.keys())[:5]"
   ]
  },
  {
   "cell_type": "code",
   "execution_count": 32,
   "id": "cbc5ba9d",
   "metadata": {},
   "outputs": [
    {
     "data": {
      "text/plain": [
       "'AGGTATCCTCTCATCTCAGCTTCCCTAGTAGTTGGAACTCTAGGTGCACAACACCACACCAGTTATTATTATTATTTTTTAATTTTTTATAGAGACAGGT'"
      ]
     },
     "execution_count": 32,
     "metadata": {},
     "output_type": "execute_result"
    }
   ],
   "source": [
    "# print random location in genome\n",
    "chr2seq['chr1'][500000:500100]"
   ]
  },
  {
   "cell_type": "markdown",
   "id": "26c07a54-d43f-44bb-9093-9dd17d818683",
   "metadata": {},
   "source": [
    "## Get random genome coordinate"
   ]
  },
  {
   "cell_type": "code",
   "execution_count": 33,
   "id": "f20f22c0-51e9-46d8-b69d-5e681bc28470",
   "metadata": {},
   "outputs": [
    {
     "data": {
      "text/plain": [
       "('chr3', 130118091)"
      ]
     },
     "execution_count": 33,
     "metadata": {},
     "output_type": "execute_result"
    }
   ],
   "source": [
    "import jsGenome as jsg\n",
    "genomeLen,Chrom2NumStartEnd=jsg.generate_Chrom2NumStartEnd(chr2seq)\n",
    "jsg.choose_random_chrom_pos(genomeLen,Chrom2NumStartEnd)"
   ]
  },
  {
   "cell_type": "markdown",
   "id": "55ada5d2-eb63-4053-8532-0e68a61658d6",
   "metadata": {},
   "source": [
    "## Liftover coordinates from old genome to new genome"
   ]
  },
  {
   "cell_type": "code",
   "execution_count": 34,
   "id": "2ae4e1d7-1d9c-4838-9849-4a640e263005",
   "metadata": {},
   "outputs": [],
   "source": [
    "# Create liftover mapping\n",
    "lo=jsg.getLiftoverObject('hg19','hg38')"
   ]
  },
  {
   "cell_type": "code",
   "execution_count": 35,
   "id": "1f96d840-625d-4980-9843-ed7f4e498967",
   "metadata": {},
   "outputs": [
    {
     "data": {
      "text/plain": [
       "('chr1', 1064621)"
      ]
     },
     "execution_count": 35,
     "metadata": {},
     "output_type": "execute_result"
    }
   ],
   "source": [
    "# Liftover sungle position\n",
    "jsg.liftover_pos(lo,'chr1',1000001)"
   ]
  },
  {
   "cell_type": "code",
   "execution_count": 36,
   "id": "2829bd11-cd3b-4028-ba2a-c9ea49223b28",
   "metadata": {},
   "outputs": [
    {
     "data": {
      "text/plain": [
       "('chr1', 1064621, 1064631)"
      ]
     },
     "execution_count": 36,
     "metadata": {},
     "output_type": "execute_result"
    }
   ],
   "source": [
    "# Liftover start/end of interval\n",
    "jsg.liftover_start_end(lo,'chr1',1000001,1000011)"
   ]
  },
  {
   "cell_type": "code",
   "execution_count": 37,
   "id": "09f699a5-0c33-4756-8b33-f799a73ebc47",
   "metadata": {},
   "outputs": [],
   "source": [
    "# Liftover a whole file of start/ends (ie bed file)\n",
    "# jsg.liftover_interval_batch(in_bed,loObject,out_bed)"
   ]
  }
 ],
 "metadata": {
  "kernelspec": {
   "display_name": "Python 3 (ipykernel)",
   "language": "python",
   "name": "python3"
  },
  "language_info": {
   "codemirror_mode": {
    "name": "ipython",
    "version": 3
   },
   "file_extension": ".py",
   "mimetype": "text/x-python",
   "name": "python",
   "nbconvert_exporter": "python",
   "pygments_lexer": "ipython3",
   "version": "3.9.7"
  }
 },
 "nbformat": 4,
 "nbformat_minor": 5
}
