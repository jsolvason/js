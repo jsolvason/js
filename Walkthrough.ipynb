{
 "cells": [
  {
   "cell_type": "markdown",
   "id": "872f841d",
   "metadata": {},
   "source": [
    "# Installation"
   ]
  },
  {
   "cell_type": "markdown",
   "id": "7f6282b4",
   "metadata": {},
   "source": [
    "To install these scripts I suggest doing the following:\n",
    "\n",
    "1. Create folder in home directory called pybin. Open terminal then type \n",
    "\n",
    "    ```mkdir pybin```\n",
    "\n",
    "2. Clone this github repo into pybin. \n",
    "    \n",
    "    ```cd pybin``` \n",
    "    \n",
    "    ```git clone https://github.com/jsolvason/js```\n",
    "    \n",
    "3. Go back to your home directory \n",
    "\n",
    "    ```cd ~```\n",
    "\n",
    "4. Find your bash profile (The profile will be called ```.bash_profile```,```.bashrc```, or ```.zshrc```).\n",
    "\n",
    "    ```ls -a ~``` \n",
    "\n",
    "5. Open your bash profile with the terminal word processor (this assumes its named ```.zshrc```) \n",
    "\n",
    "    ```nano ~./zshrc```\n",
    "\n",
    "6. Add the following line to your bash profile \n",
    "\n",
    "    ```export PYTHONPATH=~/pybin/js:~/pybin/:$PYTHONPATH```\n",
    "\n",
    "\n",
    "7. Test this works by creating a new terminal window and typing the follwoing. If this does not return an error message, then it works!\n",
    "\n",
    "    ```python```\n",
    "\n",
    "    ```import js``` \n",
    "    \n",
    "8. You will also need to install the python library ```Biopython``` to your conda environment to use some of my scripts. Activate the conda environment you will use ```js``` in and install the following conda package https://anaconda.org/anaconda/biopython\n"
   ]
  },
  {
   "cell_type": "markdown",
   "id": "f7698f7d",
   "metadata": {},
   "source": [
    "# Download reference files"
   ]
  },
  {
   "cell_type": "markdown",
   "id": "6a50bc4d",
   "metadata": {},
   "source": [
    "Reference files are too large to load to github. They can be found on our labs google drive here.\n",
    "\n",
    "https://drive.google.com/drive/u/1/folders/1EP85teWmxO69mGgdENufN6YEux7i3X33"
   ]
  },
  {
   "cell_type": "markdown",
   "id": "aebb26ca",
   "metadata": {},
   "source": [
    "# Load all packages"
   ]
  },
  {
   "cell_type": "code",
   "execution_count": null,
   "id": "ffaad980",
   "metadata": {},
   "outputs": [],
   "source": [
    "import js\n",
    "import jsAff as jsa\n",
    "import jsDna as jsd\n",
    "import jsGenome as jsg\n",
    "\n",
    "help(js)"
   ]
  },
  {
   "cell_type": "code",
   "execution_count": null,
   "id": "6a7c8eb5",
   "metadata": {},
   "outputs": [],
   "source": [
    "# List all modules in the package\n",
    "js.listModules()"
   ]
  },
  {
   "cell_type": "markdown",
   "id": "3f3c5240",
   "metadata": {},
   "source": [
    "# Affinity scripts"
   ]
  },
  {
   "cell_type": "markdown",
   "id": "f9d7d322",
   "metadata": {},
   "source": [
    "This module allows you to load affinity reference files in the form of a dictionary with ```key=dna_sequence``` and ```value=affinity``` where max affinity is 1.0"
   ]
  },
  {
   "cell_type": "code",
   "execution_count": null,
   "id": "23af1dc8",
   "metadata": {},
   "outputs": [],
   "source": [
    "help(jsa)"
   ]
  },
  {
   "cell_type": "markdown",
   "id": "6793ce83",
   "metadata": {},
   "source": [
    "## Downloading affinity files"
   ]
  },
  {
   "cell_type": "markdown",
   "id": "45892d43",
   "metadata": {},
   "source": [
    "Download here: https://drive.google.com/drive/u/1/folders/1DhCFV5_naMZRFjfwdsYMnGatXaTX824y"
   ]
  },
  {
   "cell_type": "markdown",
   "id": "5039a6b1",
   "metadata": {},
   "source": [
    "## Loading dictionary"
   ]
  },
  {
   "cell_type": "code",
   "execution_count": null,
   "id": "fd5bc978",
   "metadata": {},
   "outputs": [],
   "source": [
    "# Load Ets1 affinity data\n",
    "seq2aff=jsa.loadEts(ref='/Users/joe/code/ref/binding_affinity/ets/parsed_Ets1_8mers.txt')\n",
    "js.dprint(seq2aff,0)"
   ]
  },
  {
   "cell_type": "code",
   "execution_count": null,
   "id": "0cadcda6",
   "metadata": {},
   "outputs": [],
   "source": [
    "# Max and min affinities\n",
    "round(min(seq2aff.values()),3),max(seq2aff.values())"
   ]
  },
  {
   "cell_type": "code",
   "execution_count": null,
   "id": "ab243a50",
   "metadata": {},
   "outputs": [],
   "source": [
    "# Max sequence. \n",
    "seq2aff['CCGGAAGT']"
   ]
  },
  {
   "cell_type": "code",
   "execution_count": null,
   "id": "24f446be",
   "metadata": {},
   "outputs": [],
   "source": [
    "# Note that you can search for fwd or rev and get same answer.\n",
    "seq2aff[jsd.revcomp('CCGGAAGT')]"
   ]
  },
  {
   "cell_type": "markdown",
   "id": "1b0d71df",
   "metadata": {},
   "source": [
    "# Dna scripts"
   ]
  },
  {
   "cell_type": "markdown",
   "id": "6870cafa",
   "metadata": {},
   "source": [
    "This module allows you to do various operations on DNA sequence"
   ]
  },
  {
   "cell_type": "code",
   "execution_count": null,
   "id": "6b56631b",
   "metadata": {},
   "outputs": [],
   "source": [
    "import jsDna as jsd\n",
    "help(jsd)"
   ]
  },
  {
   "cell_type": "markdown",
   "id": "dd908e5a",
   "metadata": {},
   "source": [
    "# Count with reverse complement"
   ]
  },
  {
   "cell_type": "code",
   "execution_count": null,
   "id": "176684ce",
   "metadata": {},
   "outputs": [],
   "source": [
    "pattern='GGAA'\n",
    "seq='AAAGGAATTTGGAACCCTTCCTT'\n",
    "jsd.count_with_revcomp(pattern,seq)"
   ]
  },
  {
   "cell_type": "markdown",
   "id": "4286b613",
   "metadata": {},
   "source": [
    "## Hamming Distance"
   ]
  },
  {
   "cell_type": "code",
   "execution_count": null,
   "id": "f9992b98",
   "metadata": {},
   "outputs": [],
   "source": [
    "str1='AATTGGCC'\n",
    "str2='TTTTGGCC'\n",
    "jsd.hamming(str1, str2)    "
   ]
  },
  {
   "cell_type": "markdown",
   "id": "a39ab3be",
   "metadata": {},
   "source": [
    "## Reverse Complement"
   ]
  },
  {
   "cell_type": "code",
   "execution_count": null,
   "id": "01fd12d8",
   "metadata": {},
   "outputs": [],
   "source": [
    "dna='ATGC'\n",
    "jsd.revcomp(dna)    "
   ]
  },
  {
   "cell_type": "markdown",
   "id": "b3231d85",
   "metadata": {},
   "source": [
    "## GC Content"
   ]
  },
  {
   "cell_type": "code",
   "execution_count": null,
   "id": "e3545fbb",
   "metadata": {},
   "outputs": [],
   "source": [
    "seq='ATGGCCAT'\n",
    "jsd.gc_content(seq)    "
   ]
  },
  {
   "cell_type": "markdown",
   "id": "8aee7692",
   "metadata": {},
   "source": [
    "## Iterating over kmers"
   ]
  },
  {
   "cell_type": "code",
   "execution_count": null,
   "id": "3ea7ce65",
   "metadata": {},
   "outputs": [],
   "source": [
    "string='AATTGGCC'\n",
    "k=3\n",
    "jsd.get_kmers(string, k)    "
   ]
  },
  {
   "cell_type": "code",
   "execution_count": null,
   "id": "6770d55c",
   "metadata": {},
   "outputs": [],
   "source": [
    "for kmer in jsd.get_kmers(string, k):\n",
    "    print(kmer) "
   ]
  },
  {
   "cell_type": "code",
   "execution_count": null,
   "id": "f54d545b",
   "metadata": {},
   "outputs": [],
   "source": [
    "list(jsd.get_kmers(string, k))"
   ]
  },
  {
   "cell_type": "markdown",
   "id": "0a1aa547",
   "metadata": {},
   "source": [
    "## Generating random DNA"
   ]
  },
  {
   "cell_type": "code",
   "execution_count": null,
   "id": "e5899fc6",
   "metadata": {},
   "outputs": [],
   "source": [
    "length=5\n",
    "jsd.GenerateRandomDNA(length)    "
   ]
  },
  {
   "cell_type": "code",
   "execution_count": null,
   "id": "2708ee27",
   "metadata": {},
   "outputs": [],
   "source": [
    "template='AANAA'\n",
    "jsd.GenerateSingleRandomSequence(template)    "
   ]
  },
  {
   "cell_type": "code",
   "execution_count": null,
   "id": "f88302b9",
   "metadata": {},
   "outputs": [],
   "source": [
    "template='AANAA'\n",
    "jsd.GenerateAllPossibleSequences(template)"
   ]
  },
  {
   "cell_type": "code",
   "execution_count": null,
   "id": "3ec7ad07",
   "metadata": {},
   "outputs": [],
   "source": [
    "jsd.Iupac2AllNt"
   ]
  },
  {
   "cell_type": "code",
   "execution_count": null,
   "id": "c8b16eaa",
   "metadata": {},
   "outputs": [],
   "source": [
    "dna='AYN'\n",
    "jsd.IupacToAllPossibleSequences(dna)    "
   ]
  },
  {
   "cell_type": "code",
   "execution_count": null,
   "id": "610dadb3",
   "metadata": {},
   "outputs": [],
   "source": [
    "dna='AYN'\n",
    "pattern=jsd.IupacToRegexPattern(dna)    \n",
    "pattern"
   ]
  },
  {
   "cell_type": "code",
   "execution_count": null,
   "id": "9500cb1a",
   "metadata": {},
   "outputs": [],
   "source": [
    "jsd.revcomp_regex(pattern)"
   ]
  },
  {
   "cell_type": "markdown",
   "id": "0a4f9de6",
   "metadata": {},
   "source": [
    "# Genome scripts"
   ]
  },
  {
   "cell_type": "markdown",
   "id": "24154095",
   "metadata": {},
   "source": [
    "This module is used to load a genome as a dictionary with ```key=chromosome_name``` and ```value=chromosome_sequence```."
   ]
  },
  {
   "cell_type": "markdown",
   "id": "c051f2ab",
   "metadata": {},
   "source": [
    "# Change coordinates from browser format to python variables"
   ]
  },
  {
   "cell_type": "code",
   "execution_count": 2,
   "id": "fb777026",
   "metadata": {},
   "outputs": [
    {
     "data": {
      "text/plain": [
       "('chr8', 11617341, 11618340)"
      ]
     },
     "execution_count": 2,
     "metadata": {},
     "output_type": "execute_result"
    }
   ],
   "source": [
    "# def parse_cse(cse):\n",
    "#     '''A method to convert genome broser coords (ie chr1:1,000,000-1,200,000) to python variables.'''\n",
    "#     c,se=cse.split(':')\n",
    "#     s,e=[int(i.replace(',','')) for i in se.split('-')]\n",
    "#     return c,s,e\n",
    "    \n",
    "jsg.parse_cse('chr8:11,617,341-11,618,340')"
   ]
  },
  {
   "cell_type": "markdown",
   "id": "026ad917",
   "metadata": {},
   "source": [
    "## Download genomes to your computer"
   ]
  },
  {
   "cell_type": "markdown",
   "id": "1b955065",
   "metadata": {},
   "source": [
    "Found here https://drive.google.com/drive/u/1/folders/1zRZUe7bcVZqB1qsYbjWSAHIAlGw-UyAb"
   ]
  },
  {
   "cell_type": "markdown",
   "id": "814fba73",
   "metadata": {},
   "source": [
    "## Load genome"
   ]
  },
  {
   "cell_type": "code",
   "execution_count": 1,
   "id": "a70a4a99",
   "metadata": {},
   "outputs": [
    {
     "name": "stdout",
     "output_type": "stream",
     "text": [
      "Help on module jsGenome:\n",
      "\n",
      "NAME\n",
      "    jsGenome\n",
      "\n",
      "FUNCTIONS\n",
      "    loadCi08(file_genome='/Users/joe/code/ref/genomes/ciona/2008/JoinedScaffold.fasta')\n",
      "        Load 2008 ciona genome\n",
      "    \n",
      "    loadCi19(file_genome='/Users/joe/code/ref/genomes/ciona/2019/HT.Ref.fasta')\n",
      "        Load 2019 ciona genome\n",
      "    \n",
      "    loadCi19_beta(file_genome='/Users/joe/code/ref/genomes/ciona/2019/HT.Ref.forBetaTesting.fasta')\n",
      "        Load 2019 ciona genome (for beta testing, first 1kb of each chrom)\n",
      "    \n",
      "    loadDr11(file_genome='/Users/joe/code/ref/genomes/zebrafish/danRer11/danRer11.fa')\n",
      "        Load Zebrafish danRer11 genome\n",
      "    \n",
      "    loadGenome(file_genome)\n",
      "        Loads arbitrary genome\n",
      "    \n",
      "    loadHg19(file_genome='/Users/joe/code/ref/genomes/human/hg19/hg19.fa')\n",
      "        Load hg19  genome\n",
      "    \n",
      "    loadHg38(file_genome='/Users/joe/code/ref/genomes/human/hg38/hg38.fa')\n",
      "        Load hg38  genome\n",
      "    \n",
      "    loadMm10(file_genome='/Users/joe/code/ref/genomes/mouse/mm10/mm10.fa')\n",
      "        Load mm10 mouse genome\n",
      "    \n",
      "    parse_cse(cse)\n",
      "        A method to convert genome broser coords (ie chr1:1,000,000-1,200,000) to python variables.\n",
      "\n",
      "FILE\n",
      "    /Users/joe/pybin/js/jsGenome.py\n",
      "\n",
      "\n"
     ]
    }
   ],
   "source": [
    "import jsGenome as jsg\n",
    "help(jsg)"
   ]
  },
  {
   "cell_type": "code",
   "execution_count": null,
   "id": "ba677e4c",
   "metadata": {},
   "outputs": [],
   "source": [
    "chr2seq=jsg.loadHg38()"
   ]
  },
  {
   "cell_type": "code",
   "execution_count": null,
   "id": "ef5a4085",
   "metadata": {},
   "outputs": [],
   "source": [
    "# Inspect keys of dictionary\n",
    "list(chr2seq.keys())[0]"
   ]
  },
  {
   "cell_type": "code",
   "execution_count": null,
   "id": "cbc5ba9d",
   "metadata": {},
   "outputs": [],
   "source": [
    "# print random location in genome\n",
    "chr2seq['chr1'][500000:500100]"
   ]
  },
  {
   "cell_type": "markdown",
   "id": "2574d02d",
   "metadata": {},
   "source": [
    "# Reading other files"
   ]
  },
  {
   "cell_type": "code",
   "execution_count": null,
   "id": "3d49ce83",
   "metadata": {},
   "outputs": [],
   "source": [
    "import js\n",
    "help(js.read_tsv)"
   ]
  },
  {
   "cell_type": "markdown",
   "id": "232931a1",
   "metadata": {},
   "source": [
    "## Tab separated value file "
   ]
  },
  {
   "cell_type": "code",
   "execution_count": null,
   "id": "f3b2f126",
   "metadata": {},
   "outputs": [],
   "source": [
    "# Define file name\n",
    "fn='./test-data/test.tsv'\n",
    "\n",
    "# Usually you will just use the parameters 'fn','pc' (printcols), 'header'\n",
    "\n",
    "# Usually you want to start by viewing what column is at what pythonic index in the row\n",
    "for row in js.read_tsv(fn, pc=True, header=True):\n",
    "    pass"
   ]
  },
  {
   "cell_type": "code",
   "execution_count": null,
   "id": "6773c710",
   "metadata": {},
   "outputs": [],
   "source": [
    "# Now that we know what row is at what index, we can load each row\n",
    "for row in js.read_tsv(fn, pc=False, header=True):\n",
    "    print(\"row =\",row)\n",
    "    \n",
    "    name,seq,val=row\n",
    "    print(name,seq,val)\n",
    "    \n",
    "    print()"
   ]
  },
  {
   "cell_type": "markdown",
   "id": "63dcd1ec",
   "metadata": {},
   "source": [
    "## Bed file\n"
   ]
  },
  {
   "cell_type": "code",
   "execution_count": null,
   "id": "f3cdd699",
   "metadata": {},
   "outputs": [],
   "source": [
    "# Define file name\n",
    "fn='./test-data/test.bed'\n",
    "\n",
    "# This program assumes the bed file has no headers. Bed file headers start with a '#', so if you really want \n",
    "# to read in a bed file with headers you can just skip all rows with a '#' at the begining of each column.\n",
    "\n",
    "for row in js.read_tsv(fn, pc=True, header=False):\n",
    "    pass"
   ]
  },
  {
   "cell_type": "code",
   "execution_count": null,
   "id": "b2fa7e8b",
   "metadata": {},
   "outputs": [],
   "source": [
    "# Now you can do things like iterate over all kmers for each entry in the bed file\n",
    "for row in js.read_tsv(fn, pc=False, header=False):\n",
    "    chrom,start,end=row\n",
    "    start,end=int(start),int(end)\n",
    "    \n",
    "    seq=chr2seq[chrom][start:end]\n",
    "    for kmer in jsd.get_kmers(seq,8):\n",
    "        \n",
    "        # Find one example of an ets binding site and leave\n",
    "        if kmer[2:6] in ['GGAA']:\n",
    "            affinity = round(seq2aff[kmer],2)\n",
    "            print(kmer,affinity)\n",
    "            break\n",
    "    break"
   ]
  }
 ],
 "metadata": {
  "kernelspec": {
   "display_name": "Python 3",
   "language": "python",
   "name": "python3"
  },
  "language_info": {
   "codemirror_mode": {
    "name": "ipython",
    "version": 3
   },
   "file_extension": ".py",
   "mimetype": "text/x-python",
   "name": "python",
   "nbconvert_exporter": "python",
   "pygments_lexer": "ipython3",
   "version": "3.8.5"
  }
 },
 "nbformat": 4,
 "nbformat_minor": 5
}
