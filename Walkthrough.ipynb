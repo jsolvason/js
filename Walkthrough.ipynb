{
 "cells": [
  {
   "cell_type": "markdown",
   "id": "144e0b06",
   "metadata": {},
   "source": [
    "# Installation"
   ]
  },
  {
   "cell_type": "markdown",
   "id": "3dfc8247",
   "metadata": {},
   "source": [
    "To install these scripts I suggest doing the following:\n",
    "\n",
    "1. Create folder in home directory called pybin. Open terminal then type \n",
    "\n",
    "    ```mkdir pybin```\n",
    "\n",
    "2. Clone this github repo into pybin. \n",
    "    \n",
    "    ```cd pybin``` \n",
    "    \n",
    "    ```git clone https://github.com/jsolvason/js```\n",
    "    \n",
    "3. Go back to your home directory \n",
    "\n",
    "    ```cd ~```\n",
    "\n",
    "4. Find your bash profile (The profile will be called ```.bash_profile```,```.bashrc```, or ```.zshrc```).\n",
    "\n",
    "    ```ls -a ~``` \n",
    "\n",
    "5. Open your bash profile with the terminal word processor (this assumes its named ```.zshrc```) \n",
    "\n",
    "    ```nano ~./zshrc```\n",
    "\n",
    "6. Add the following line to your bash profile \n",
    "\n",
    "    ```export PYTHONPATH=~/pybin/js:~/pybin/:$PYTHONPATH```\n",
    "\n",
    "\n",
    "7. Test this works by creating a new terminal window and typing the follwoing. If this does not return an error message, then it works!\n",
    "\n",
    "    ```python```\n",
    "\n",
    "    ```import js``` \n"
   ]
  },
  {
   "cell_type": "markdown",
   "id": "1eb07ea4",
   "metadata": {},
   "source": [
    "# Load all packages"
   ]
  },
  {
   "cell_type": "code",
   "execution_count": null,
   "id": "2cd35650",
   "metadata": {},
   "outputs": [],
   "source": [
    "import js\n",
    "import jsAff as jsa\n",
    "import jsDna as jsd\n",
    "import jsGenome as jsg\n",
    "\n",
    "help(js)"
   ]
  },
  {
   "cell_type": "code",
   "execution_count": null,
   "id": "f87a01e7",
   "metadata": {},
   "outputs": [],
   "source": [
    "# List all modules in the package\n",
    "js.listModules()"
   ]
  },
  {
   "cell_type": "markdown",
   "id": "33f7a691",
   "metadata": {},
   "source": [
    "# Affinity scripts"
   ]
  },
  {
   "cell_type": "markdown",
   "id": "0f73729d",
   "metadata": {},
   "source": [
    "This module allows you to load affinity reference files in the form of a dictionary with ```key=dna_sequence``` and ```value=affinity``` where max affinity is 1.0"
   ]
  },
  {
   "cell_type": "code",
   "execution_count": null,
   "id": "1c1c8084",
   "metadata": {},
   "outputs": [],
   "source": [
    "help(jsa)"
   ]
  },
  {
   "cell_type": "markdown",
   "id": "7aa5eb78",
   "metadata": {},
   "source": [
    "## Downloading reference files"
   ]
  },
  {
   "cell_type": "markdown",
   "id": "02d2fe86",
   "metadata": {},
   "source": [
    "Files can be found at this google drive: "
   ]
  },
  {
   "cell_type": "markdown",
   "id": "e5508d1e",
   "metadata": {},
   "source": [
    "## Loading dictionary"
   ]
  },
  {
   "cell_type": "code",
   "execution_count": null,
   "id": "f87cd5b2",
   "metadata": {},
   "outputs": [],
   "source": [
    "# Load Ets1 affinity data\n",
    "seq2aff=jsa.loadEts(ref='/Users/joe/code/ref/binding_affinity/ets/parsed_Ets1_8mers.txt')\n",
    "js.dprint(seq2aff,0)"
   ]
  },
  {
   "cell_type": "code",
   "execution_count": null,
   "id": "d26c4465",
   "metadata": {},
   "outputs": [],
   "source": [
    "# Max and min affinities\n",
    "round(min(seq2aff.values()),3),max(seq2aff.values())"
   ]
  },
  {
   "cell_type": "code",
   "execution_count": null,
   "id": "d14576e0",
   "metadata": {},
   "outputs": [],
   "source": [
    "# Max sequence. \n",
    "seq2aff['CCGGAAGT']"
   ]
  },
  {
   "cell_type": "code",
   "execution_count": null,
   "id": "23544429",
   "metadata": {},
   "outputs": [],
   "source": [
    "# Note that you can search for fwd or rev and get same answer.\n",
    "seq2aff[jsd.revcomp('CCGGAAGT')]"
   ]
  },
  {
   "cell_type": "markdown",
   "id": "346878a5",
   "metadata": {},
   "source": [
    "# Dna scripts"
   ]
  },
  {
   "cell_type": "markdown",
   "id": "da92523b",
   "metadata": {},
   "source": [
    "This module allows you to do various operations on DNA sequence"
   ]
  },
  {
   "cell_type": "code",
   "execution_count": null,
   "id": "9f5fa387",
   "metadata": {},
   "outputs": [],
   "source": [
    "import jsDna as jsd\n",
    "help(jsd)"
   ]
  },
  {
   "cell_type": "markdown",
   "id": "d3861cf8",
   "metadata": {},
   "source": [
    "## Hamming Distance"
   ]
  },
  {
   "cell_type": "code",
   "execution_count": null,
   "id": "d8b16234",
   "metadata": {},
   "outputs": [],
   "source": [
    "str1='AATTGGCC'\n",
    "str2='TTTTGGCC'\n",
    "jsd.hamming(str1, str2)    "
   ]
  },
  {
   "cell_type": "markdown",
   "id": "26fb05af",
   "metadata": {},
   "source": [
    "## Reverse Complement"
   ]
  },
  {
   "cell_type": "code",
   "execution_count": null,
   "id": "60943185",
   "metadata": {},
   "outputs": [],
   "source": [
    "dna='ATGC'\n",
    "jsd.revcomp(dna)    "
   ]
  },
  {
   "cell_type": "markdown",
   "id": "2d0255a3",
   "metadata": {},
   "source": [
    "## GC Content"
   ]
  },
  {
   "cell_type": "code",
   "execution_count": null,
   "id": "c7f9b6bc",
   "metadata": {},
   "outputs": [],
   "source": [
    "seq='ATGGCCAT'\n",
    "jsd.gc_content(seq)    "
   ]
  },
  {
   "cell_type": "markdown",
   "id": "bdd5f61f",
   "metadata": {},
   "source": [
    "## Iterating over kmers"
   ]
  },
  {
   "cell_type": "code",
   "execution_count": null,
   "id": "0147c3f2",
   "metadata": {},
   "outputs": [],
   "source": [
    "string='AATTGGCC'\n",
    "k=3\n",
    "jsd.get_kmers(string, k)    "
   ]
  },
  {
   "cell_type": "code",
   "execution_count": null,
   "id": "ed23cb9f",
   "metadata": {},
   "outputs": [],
   "source": [
    "for kmer in jsd.get_kmers(string, k):\n",
    "    print(kmer) "
   ]
  },
  {
   "cell_type": "code",
   "execution_count": null,
   "id": "727b3c28",
   "metadata": {},
   "outputs": [],
   "source": [
    "list(jsd.get_kmers(string, k))"
   ]
  },
  {
   "cell_type": "markdown",
   "id": "f6153da4",
   "metadata": {},
   "source": [
    "## Generating random DNA"
   ]
  },
  {
   "cell_type": "code",
   "execution_count": null,
   "id": "e152d253",
   "metadata": {},
   "outputs": [],
   "source": [
    "length=5\n",
    "jsd.GenerateRandomDNA(length)    "
   ]
  },
  {
   "cell_type": "code",
   "execution_count": null,
   "id": "3741c6f7",
   "metadata": {},
   "outputs": [],
   "source": [
    "template='AANAA'\n",
    "jsd.GenerateSingleRandomSequence(template)    "
   ]
  },
  {
   "cell_type": "code",
   "execution_count": null,
   "id": "2aca0bce",
   "metadata": {},
   "outputs": [],
   "source": [
    "template='AANAA'\n",
    "jsd.GenerateAllPossibleSequences(template)"
   ]
  },
  {
   "cell_type": "code",
   "execution_count": null,
   "id": "231ca7da",
   "metadata": {},
   "outputs": [],
   "source": [
    "jsd.Iupac2AllNt"
   ]
  },
  {
   "cell_type": "code",
   "execution_count": null,
   "id": "cfaf8734",
   "metadata": {},
   "outputs": [],
   "source": [
    "dna='AYN'\n",
    "jsd.IupacToAllPossibleSequences(dna)    "
   ]
  },
  {
   "cell_type": "code",
   "execution_count": null,
   "id": "a0e002d1",
   "metadata": {},
   "outputs": [],
   "source": [
    "dna='AYN'\n",
    "pattern=jsd.IupacToRegexPattern(dna)    \n",
    "pattern"
   ]
  },
  {
   "cell_type": "code",
   "execution_count": null,
   "id": "9b941f7e",
   "metadata": {},
   "outputs": [],
   "source": [
    "jsd.revcomp_regex(pattern)"
   ]
  },
  {
   "cell_type": "markdown",
   "id": "c0d74f68",
   "metadata": {},
   "source": [
    "# Genome scripts"
   ]
  },
  {
   "cell_type": "markdown",
   "id": "b186262b",
   "metadata": {},
   "source": [
    "This module is used to load a genome as a dictionary with ```key=chromosome_name``` and ```value=chromosome_sequence```."
   ]
  },
  {
   "cell_type": "markdown",
   "id": "aff79570",
   "metadata": {},
   "source": [
    "## Download genome"
   ]
  },
  {
   "cell_type": "code",
   "execution_count": 2,
   "id": "b8c56d04",
   "metadata": {},
   "outputs": [
    {
     "name": "stdout",
     "output_type": "stream",
     "text": [
      "Help on module jsGenome:\n",
      "\n",
      "NAME\n",
      "    jsGenome\n",
      "\n",
      "FUNCTIONS\n",
      "    loadCi08(file_genome='/Users/joe/code/ref/genomes/ciona/2008/JoinedScaffold.fasta')\n",
      "        Load 2008 ciona genome\n",
      "    \n",
      "    loadCi19(file_genome='/Users/joe/code/ref/genomes/ciona/2019/HT.Ref.fasta')\n",
      "        Load 2019 ciona genome\n",
      "    \n",
      "    loadCi19_beta(file_genome='/Users/joe/code/ref/genomes/ciona/2019/HT.Ref.forBetaTesting.fasta')\n",
      "        Load 2019 ciona genome (for beta testing, first 1kb of each chrom)\n",
      "    \n",
      "    loadDr11(file_genome='/Users/joe/code/ref/genomes/zebrafish/danRer11/danRer11.fa')\n",
      "        Load Zebrafish danRer11 genome\n",
      "    \n",
      "    loadGenome(file_genome)\n",
      "        Loads arbitrary genome\n",
      "    \n",
      "    loadHg19(file_genome='/Users/joe/code/ref/genomes/human/hg19/hg19.fa')\n",
      "        Load hg19  genome\n",
      "    \n",
      "    loadHg38(file_genome='/Users/joe/code/ref/genomes/human/hg38/hg38.fa')\n",
      "        Load hg38  genome\n",
      "    \n",
      "    loadMm10(file_genome='/Users/joe/code/ref/genomes/mouse/mm10/mm10.fa')\n",
      "        Load mm10 mouse genome\n",
      "\n",
      "FILE\n",
      "    /Users/joe/pybin/js/jsGenome.py\n",
      "\n",
      "\n"
     ]
    }
   ],
   "source": [
    "import jsGenome as jsg\n",
    "help(jsg)"
   ]
  },
  {
   "cell_type": "markdown",
   "id": "81a4e3a9",
   "metadata": {},
   "source": [
    "## Load genome"
   ]
  },
  {
   "cell_type": "code",
   "execution_count": 3,
   "id": "88a15621",
   "metadata": {},
   "outputs": [],
   "source": [
    "chr2seq=jsg.loadHg38()"
   ]
  },
  {
   "cell_type": "code",
   "execution_count": 6,
   "id": "3651c0cb",
   "metadata": {},
   "outputs": [
    {
     "data": {
      "text/plain": [
       "'chr1'"
      ]
     },
     "execution_count": 6,
     "metadata": {},
     "output_type": "execute_result"
    }
   ],
   "source": [
    "# Inspect keys of dictionary\n",
    "list(chr2seq.keys())[0]"
   ]
  },
  {
   "cell_type": "code",
   "execution_count": 7,
   "id": "25f19b12",
   "metadata": {},
   "outputs": [
    {
     "data": {
      "text/plain": [
       "'AGGTATCCTCTCATCTCAGCTTCCCTAGTAGTTGGAACTCTAGGTGCACAACACCACACCAGTTATTATTATTATTTTTTAATTTTTTATAGAGACAGGT'"
      ]
     },
     "execution_count": 7,
     "metadata": {},
     "output_type": "execute_result"
    }
   ],
   "source": [
    "# print random location in genome\n",
    "chr2seq['chr1'][500000:500100]"
   ]
  }
 ],
 "metadata": {
  "kernelspec": {
   "display_name": "Python 3",
   "language": "python",
   "name": "python3"
  },
  "language_info": {
   "codemirror_mode": {
    "name": "ipython",
    "version": 3
   },
   "file_extension": ".py",
   "mimetype": "text/x-python",
   "name": "python",
   "nbconvert_exporter": "python",
   "pygments_lexer": "ipython3",
   "version": "3.8.5"
  }
 },
 "nbformat": 4,
 "nbformat_minor": 5
}
